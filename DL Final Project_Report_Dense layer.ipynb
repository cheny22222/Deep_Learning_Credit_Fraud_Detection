{
  "cells": [
    {
      "cell_type": "code",
      "execution_count": null,
      "metadata": {
        "colab": {
          "base_uri": "https://localhost:8080/"
        },
        "id": "VLj2WO5EoRcc",
        "outputId": "123e167c-3f9e-4c13-9954-09d0c4c86217"
      },
      "outputs": [
        {
          "output_type": "stream",
          "name": "stdout",
          "text": [
            "Mounted at /content/drive\n"
          ]
        }
      ],
      "source": [
        "# Mount with Google Drive\n",
        "\n",
        "from google.colab import drive\n",
        "drive.mount('/content/drive')"
      ]
    },
    {
      "cell_type": "code",
      "source": [
        "!unzip -q \"/content/drive/MyDrive/Deep Learning/final project/dataset.zip\" -d /content/"
      ],
      "metadata": {
        "id": "ULATOxOAasJ8"
      },
      "execution_count": null,
      "outputs": []
    },
    {
      "cell_type": "code",
      "source": [
        "import pandas as pd\n",
        "\n",
        "df_init=pd.read_csv(\"creditcard.csv\")\n",
        "\n",
        "df_init.Class.value_counts().rename(index = {0:'Not Fraud', 1:'Fraud'})\n",
        "\n"
      ],
      "metadata": {
        "id": "I5ov_nAHaxdy",
        "colab": {
          "base_uri": "https://localhost:8080/"
        },
        "outputId": "5259b3fb-c6a5-432a-ae4b-416970930a4d"
      },
      "execution_count": null,
      "outputs": [
        {
          "output_type": "execute_result",
          "data": {
            "text/plain": [
              "Not Fraud    284315\n",
              "Fraud           492\n",
              "Name: Class, dtype: int64"
            ]
          },
          "metadata": {},
          "execution_count": 3
        }
      ]
    },
    {
      "cell_type": "code",
      "execution_count": null,
      "metadata": {
        "colab": {
          "base_uri": "https://localhost:8080/",
          "height": 488
        },
        "id": "tTpDNRzxug0R",
        "outputId": "86a72555-397d-460c-b6fe-a05f1318be42"
      },
      "outputs": [
        {
          "output_type": "execute_result",
          "data": {
            "text/plain": [
              "            Time         V1         V2        V3        V4        V5  \\\n",
              "0            0.0  -1.359807  -0.072781  2.536347  1.378155 -0.338321   \n",
              "1            0.0   1.191857   0.266151  0.166480  0.448154  0.060018   \n",
              "2            1.0  -1.358354  -1.340163  1.773209  0.379780 -0.503198   \n",
              "3            1.0  -0.966272  -0.185226  1.792993 -0.863291 -0.010309   \n",
              "4            2.0  -1.158233   0.877737  1.548718  0.403034 -0.407193   \n",
              "...          ...        ...        ...       ...       ...       ...   \n",
              "284802  172786.0 -11.881118  10.071785 -9.834783 -2.066656 -5.364473   \n",
              "284803  172787.0  -0.732789  -0.055080  2.035030 -0.738589  0.868229   \n",
              "284804  172788.0   1.919565  -0.301254 -3.249640 -0.557828  2.630515   \n",
              "284805  172788.0  -0.240440   0.530483  0.702510  0.689799 -0.377961   \n",
              "284806  172792.0  -0.533413  -0.189733  0.703337 -0.506271 -0.012546   \n",
              "\n",
              "              V6        V7        V8        V9  ...       V21       V22  \\\n",
              "0       0.462388  0.239599  0.098698  0.363787  ... -0.018307  0.277838   \n",
              "1      -0.082361 -0.078803  0.085102 -0.255425  ... -0.225775 -0.638672   \n",
              "2       1.800499  0.791461  0.247676 -1.514654  ...  0.247998  0.771679   \n",
              "3       1.247203  0.237609  0.377436 -1.387024  ... -0.108300  0.005274   \n",
              "4       0.095921  0.592941 -0.270533  0.817739  ... -0.009431  0.798278   \n",
              "...          ...       ...       ...       ...  ...       ...       ...   \n",
              "284802 -2.606837 -4.918215  7.305334  1.914428  ...  0.213454  0.111864   \n",
              "284803  1.058415  0.024330  0.294869  0.584800  ...  0.214205  0.924384   \n",
              "284804  3.031260 -0.296827  0.708417  0.432454  ...  0.232045  0.578229   \n",
              "284805  0.623708 -0.686180  0.679145  0.392087  ...  0.265245  0.800049   \n",
              "284806 -0.649617  1.577006 -0.414650  0.486180  ...  0.261057  0.643078   \n",
              "\n",
              "             V23       V24       V25       V26       V27       V28  Amount  \\\n",
              "0      -0.110474  0.066928  0.128539 -0.189115  0.133558 -0.021053  149.62   \n",
              "1       0.101288 -0.339846  0.167170  0.125895 -0.008983  0.014724    2.69   \n",
              "2       0.909412 -0.689281 -0.327642 -0.139097 -0.055353 -0.059752  378.66   \n",
              "3      -0.190321 -1.175575  0.647376 -0.221929  0.062723  0.061458  123.50   \n",
              "4      -0.137458  0.141267 -0.206010  0.502292  0.219422  0.215153   69.99   \n",
              "...          ...       ...       ...       ...       ...       ...     ...   \n",
              "284802  1.014480 -0.509348  1.436807  0.250034  0.943651  0.823731    0.77   \n",
              "284803  0.012463 -1.016226 -0.606624 -0.395255  0.068472 -0.053527   24.79   \n",
              "284804 -0.037501  0.640134  0.265745 -0.087371  0.004455 -0.026561   67.88   \n",
              "284805 -0.163298  0.123205 -0.569159  0.546668  0.108821  0.104533   10.00   \n",
              "284806  0.376777  0.008797 -0.473649 -0.818267 -0.002415  0.013649  217.00   \n",
              "\n",
              "        Class  \n",
              "0           0  \n",
              "1           0  \n",
              "2           0  \n",
              "3           0  \n",
              "4           0  \n",
              "...       ...  \n",
              "284802      0  \n",
              "284803      0  \n",
              "284804      0  \n",
              "284805      0  \n",
              "284806      0  \n",
              "\n",
              "[284807 rows x 31 columns]"
            ],
            "text/html": [
              "\n",
              "  <div id=\"df-d4e9fb28-21df-49e0-9123-10795a048524\">\n",
              "    <div class=\"colab-df-container\">\n",
              "      <div>\n",
              "<style scoped>\n",
              "    .dataframe tbody tr th:only-of-type {\n",
              "        vertical-align: middle;\n",
              "    }\n",
              "\n",
              "    .dataframe tbody tr th {\n",
              "        vertical-align: top;\n",
              "    }\n",
              "\n",
              "    .dataframe thead th {\n",
              "        text-align: right;\n",
              "    }\n",
              "</style>\n",
              "<table border=\"1\" class=\"dataframe\">\n",
              "  <thead>\n",
              "    <tr style=\"text-align: right;\">\n",
              "      <th></th>\n",
              "      <th>Time</th>\n",
              "      <th>V1</th>\n",
              "      <th>V2</th>\n",
              "      <th>V3</th>\n",
              "      <th>V4</th>\n",
              "      <th>V5</th>\n",
              "      <th>V6</th>\n",
              "      <th>V7</th>\n",
              "      <th>V8</th>\n",
              "      <th>V9</th>\n",
              "      <th>...</th>\n",
              "      <th>V21</th>\n",
              "      <th>V22</th>\n",
              "      <th>V23</th>\n",
              "      <th>V24</th>\n",
              "      <th>V25</th>\n",
              "      <th>V26</th>\n",
              "      <th>V27</th>\n",
              "      <th>V28</th>\n",
              "      <th>Amount</th>\n",
              "      <th>Class</th>\n",
              "    </tr>\n",
              "  </thead>\n",
              "  <tbody>\n",
              "    <tr>\n",
              "      <th>0</th>\n",
              "      <td>0.0</td>\n",
              "      <td>-1.359807</td>\n",
              "      <td>-0.072781</td>\n",
              "      <td>2.536347</td>\n",
              "      <td>1.378155</td>\n",
              "      <td>-0.338321</td>\n",
              "      <td>0.462388</td>\n",
              "      <td>0.239599</td>\n",
              "      <td>0.098698</td>\n",
              "      <td>0.363787</td>\n",
              "      <td>...</td>\n",
              "      <td>-0.018307</td>\n",
              "      <td>0.277838</td>\n",
              "      <td>-0.110474</td>\n",
              "      <td>0.066928</td>\n",
              "      <td>0.128539</td>\n",
              "      <td>-0.189115</td>\n",
              "      <td>0.133558</td>\n",
              "      <td>-0.021053</td>\n",
              "      <td>149.62</td>\n",
              "      <td>0</td>\n",
              "    </tr>\n",
              "    <tr>\n",
              "      <th>1</th>\n",
              "      <td>0.0</td>\n",
              "      <td>1.191857</td>\n",
              "      <td>0.266151</td>\n",
              "      <td>0.166480</td>\n",
              "      <td>0.448154</td>\n",
              "      <td>0.060018</td>\n",
              "      <td>-0.082361</td>\n",
              "      <td>-0.078803</td>\n",
              "      <td>0.085102</td>\n",
              "      <td>-0.255425</td>\n",
              "      <td>...</td>\n",
              "      <td>-0.225775</td>\n",
              "      <td>-0.638672</td>\n",
              "      <td>0.101288</td>\n",
              "      <td>-0.339846</td>\n",
              "      <td>0.167170</td>\n",
              "      <td>0.125895</td>\n",
              "      <td>-0.008983</td>\n",
              "      <td>0.014724</td>\n",
              "      <td>2.69</td>\n",
              "      <td>0</td>\n",
              "    </tr>\n",
              "    <tr>\n",
              "      <th>2</th>\n",
              "      <td>1.0</td>\n",
              "      <td>-1.358354</td>\n",
              "      <td>-1.340163</td>\n",
              "      <td>1.773209</td>\n",
              "      <td>0.379780</td>\n",
              "      <td>-0.503198</td>\n",
              "      <td>1.800499</td>\n",
              "      <td>0.791461</td>\n",
              "      <td>0.247676</td>\n",
              "      <td>-1.514654</td>\n",
              "      <td>...</td>\n",
              "      <td>0.247998</td>\n",
              "      <td>0.771679</td>\n",
              "      <td>0.909412</td>\n",
              "      <td>-0.689281</td>\n",
              "      <td>-0.327642</td>\n",
              "      <td>-0.139097</td>\n",
              "      <td>-0.055353</td>\n",
              "      <td>-0.059752</td>\n",
              "      <td>378.66</td>\n",
              "      <td>0</td>\n",
              "    </tr>\n",
              "    <tr>\n",
              "      <th>3</th>\n",
              "      <td>1.0</td>\n",
              "      <td>-0.966272</td>\n",
              "      <td>-0.185226</td>\n",
              "      <td>1.792993</td>\n",
              "      <td>-0.863291</td>\n",
              "      <td>-0.010309</td>\n",
              "      <td>1.247203</td>\n",
              "      <td>0.237609</td>\n",
              "      <td>0.377436</td>\n",
              "      <td>-1.387024</td>\n",
              "      <td>...</td>\n",
              "      <td>-0.108300</td>\n",
              "      <td>0.005274</td>\n",
              "      <td>-0.190321</td>\n",
              "      <td>-1.175575</td>\n",
              "      <td>0.647376</td>\n",
              "      <td>-0.221929</td>\n",
              "      <td>0.062723</td>\n",
              "      <td>0.061458</td>\n",
              "      <td>123.50</td>\n",
              "      <td>0</td>\n",
              "    </tr>\n",
              "    <tr>\n",
              "      <th>4</th>\n",
              "      <td>2.0</td>\n",
              "      <td>-1.158233</td>\n",
              "      <td>0.877737</td>\n",
              "      <td>1.548718</td>\n",
              "      <td>0.403034</td>\n",
              "      <td>-0.407193</td>\n",
              "      <td>0.095921</td>\n",
              "      <td>0.592941</td>\n",
              "      <td>-0.270533</td>\n",
              "      <td>0.817739</td>\n",
              "      <td>...</td>\n",
              "      <td>-0.009431</td>\n",
              "      <td>0.798278</td>\n",
              "      <td>-0.137458</td>\n",
              "      <td>0.141267</td>\n",
              "      <td>-0.206010</td>\n",
              "      <td>0.502292</td>\n",
              "      <td>0.219422</td>\n",
              "      <td>0.215153</td>\n",
              "      <td>69.99</td>\n",
              "      <td>0</td>\n",
              "    </tr>\n",
              "    <tr>\n",
              "      <th>...</th>\n",
              "      <td>...</td>\n",
              "      <td>...</td>\n",
              "      <td>...</td>\n",
              "      <td>...</td>\n",
              "      <td>...</td>\n",
              "      <td>...</td>\n",
              "      <td>...</td>\n",
              "      <td>...</td>\n",
              "      <td>...</td>\n",
              "      <td>...</td>\n",
              "      <td>...</td>\n",
              "      <td>...</td>\n",
              "      <td>...</td>\n",
              "      <td>...</td>\n",
              "      <td>...</td>\n",
              "      <td>...</td>\n",
              "      <td>...</td>\n",
              "      <td>...</td>\n",
              "      <td>...</td>\n",
              "      <td>...</td>\n",
              "      <td>...</td>\n",
              "    </tr>\n",
              "    <tr>\n",
              "      <th>284802</th>\n",
              "      <td>172786.0</td>\n",
              "      <td>-11.881118</td>\n",
              "      <td>10.071785</td>\n",
              "      <td>-9.834783</td>\n",
              "      <td>-2.066656</td>\n",
              "      <td>-5.364473</td>\n",
              "      <td>-2.606837</td>\n",
              "      <td>-4.918215</td>\n",
              "      <td>7.305334</td>\n",
              "      <td>1.914428</td>\n",
              "      <td>...</td>\n",
              "      <td>0.213454</td>\n",
              "      <td>0.111864</td>\n",
              "      <td>1.014480</td>\n",
              "      <td>-0.509348</td>\n",
              "      <td>1.436807</td>\n",
              "      <td>0.250034</td>\n",
              "      <td>0.943651</td>\n",
              "      <td>0.823731</td>\n",
              "      <td>0.77</td>\n",
              "      <td>0</td>\n",
              "    </tr>\n",
              "    <tr>\n",
              "      <th>284803</th>\n",
              "      <td>172787.0</td>\n",
              "      <td>-0.732789</td>\n",
              "      <td>-0.055080</td>\n",
              "      <td>2.035030</td>\n",
              "      <td>-0.738589</td>\n",
              "      <td>0.868229</td>\n",
              "      <td>1.058415</td>\n",
              "      <td>0.024330</td>\n",
              "      <td>0.294869</td>\n",
              "      <td>0.584800</td>\n",
              "      <td>...</td>\n",
              "      <td>0.214205</td>\n",
              "      <td>0.924384</td>\n",
              "      <td>0.012463</td>\n",
              "      <td>-1.016226</td>\n",
              "      <td>-0.606624</td>\n",
              "      <td>-0.395255</td>\n",
              "      <td>0.068472</td>\n",
              "      <td>-0.053527</td>\n",
              "      <td>24.79</td>\n",
              "      <td>0</td>\n",
              "    </tr>\n",
              "    <tr>\n",
              "      <th>284804</th>\n",
              "      <td>172788.0</td>\n",
              "      <td>1.919565</td>\n",
              "      <td>-0.301254</td>\n",
              "      <td>-3.249640</td>\n",
              "      <td>-0.557828</td>\n",
              "      <td>2.630515</td>\n",
              "      <td>3.031260</td>\n",
              "      <td>-0.296827</td>\n",
              "      <td>0.708417</td>\n",
              "      <td>0.432454</td>\n",
              "      <td>...</td>\n",
              "      <td>0.232045</td>\n",
              "      <td>0.578229</td>\n",
              "      <td>-0.037501</td>\n",
              "      <td>0.640134</td>\n",
              "      <td>0.265745</td>\n",
              "      <td>-0.087371</td>\n",
              "      <td>0.004455</td>\n",
              "      <td>-0.026561</td>\n",
              "      <td>67.88</td>\n",
              "      <td>0</td>\n",
              "    </tr>\n",
              "    <tr>\n",
              "      <th>284805</th>\n",
              "      <td>172788.0</td>\n",
              "      <td>-0.240440</td>\n",
              "      <td>0.530483</td>\n",
              "      <td>0.702510</td>\n",
              "      <td>0.689799</td>\n",
              "      <td>-0.377961</td>\n",
              "      <td>0.623708</td>\n",
              "      <td>-0.686180</td>\n",
              "      <td>0.679145</td>\n",
              "      <td>0.392087</td>\n",
              "      <td>...</td>\n",
              "      <td>0.265245</td>\n",
              "      <td>0.800049</td>\n",
              "      <td>-0.163298</td>\n",
              "      <td>0.123205</td>\n",
              "      <td>-0.569159</td>\n",
              "      <td>0.546668</td>\n",
              "      <td>0.108821</td>\n",
              "      <td>0.104533</td>\n",
              "      <td>10.00</td>\n",
              "      <td>0</td>\n",
              "    </tr>\n",
              "    <tr>\n",
              "      <th>284806</th>\n",
              "      <td>172792.0</td>\n",
              "      <td>-0.533413</td>\n",
              "      <td>-0.189733</td>\n",
              "      <td>0.703337</td>\n",
              "      <td>-0.506271</td>\n",
              "      <td>-0.012546</td>\n",
              "      <td>-0.649617</td>\n",
              "      <td>1.577006</td>\n",
              "      <td>-0.414650</td>\n",
              "      <td>0.486180</td>\n",
              "      <td>...</td>\n",
              "      <td>0.261057</td>\n",
              "      <td>0.643078</td>\n",
              "      <td>0.376777</td>\n",
              "      <td>0.008797</td>\n",
              "      <td>-0.473649</td>\n",
              "      <td>-0.818267</td>\n",
              "      <td>-0.002415</td>\n",
              "      <td>0.013649</td>\n",
              "      <td>217.00</td>\n",
              "      <td>0</td>\n",
              "    </tr>\n",
              "  </tbody>\n",
              "</table>\n",
              "<p>284807 rows × 31 columns</p>\n",
              "</div>\n",
              "      <button class=\"colab-df-convert\" onclick=\"convertToInteractive('df-d4e9fb28-21df-49e0-9123-10795a048524')\"\n",
              "              title=\"Convert this dataframe to an interactive table.\"\n",
              "              style=\"display:none;\">\n",
              "        \n",
              "  <svg xmlns=\"http://www.w3.org/2000/svg\" height=\"24px\"viewBox=\"0 0 24 24\"\n",
              "       width=\"24px\">\n",
              "    <path d=\"M0 0h24v24H0V0z\" fill=\"none\"/>\n",
              "    <path d=\"M18.56 5.44l.94 2.06.94-2.06 2.06-.94-2.06-.94-.94-2.06-.94 2.06-2.06.94zm-11 1L8.5 8.5l.94-2.06 2.06-.94-2.06-.94L8.5 2.5l-.94 2.06-2.06.94zm10 10l.94 2.06.94-2.06 2.06-.94-2.06-.94-.94-2.06-.94 2.06-2.06.94z\"/><path d=\"M17.41 7.96l-1.37-1.37c-.4-.4-.92-.59-1.43-.59-.52 0-1.04.2-1.43.59L10.3 9.45l-7.72 7.72c-.78.78-.78 2.05 0 2.83L4 21.41c.39.39.9.59 1.41.59.51 0 1.02-.2 1.41-.59l7.78-7.78 2.81-2.81c.8-.78.8-2.07 0-2.86zM5.41 20L4 18.59l7.72-7.72 1.47 1.35L5.41 20z\"/>\n",
              "  </svg>\n",
              "      </button>\n",
              "      \n",
              "  <style>\n",
              "    .colab-df-container {\n",
              "      display:flex;\n",
              "      flex-wrap:wrap;\n",
              "      gap: 12px;\n",
              "    }\n",
              "\n",
              "    .colab-df-convert {\n",
              "      background-color: #E8F0FE;\n",
              "      border: none;\n",
              "      border-radius: 50%;\n",
              "      cursor: pointer;\n",
              "      display: none;\n",
              "      fill: #1967D2;\n",
              "      height: 32px;\n",
              "      padding: 0 0 0 0;\n",
              "      width: 32px;\n",
              "    }\n",
              "\n",
              "    .colab-df-convert:hover {\n",
              "      background-color: #E2EBFA;\n",
              "      box-shadow: 0px 1px 2px rgba(60, 64, 67, 0.3), 0px 1px 3px 1px rgba(60, 64, 67, 0.15);\n",
              "      fill: #174EA6;\n",
              "    }\n",
              "\n",
              "    [theme=dark] .colab-df-convert {\n",
              "      background-color: #3B4455;\n",
              "      fill: #D2E3FC;\n",
              "    }\n",
              "\n",
              "    [theme=dark] .colab-df-convert:hover {\n",
              "      background-color: #434B5C;\n",
              "      box-shadow: 0px 1px 3px 1px rgba(0, 0, 0, 0.15);\n",
              "      filter: drop-shadow(0px 1px 2px rgba(0, 0, 0, 0.3));\n",
              "      fill: #FFFFFF;\n",
              "    }\n",
              "  </style>\n",
              "\n",
              "      <script>\n",
              "        const buttonEl =\n",
              "          document.querySelector('#df-d4e9fb28-21df-49e0-9123-10795a048524 button.colab-df-convert');\n",
              "        buttonEl.style.display =\n",
              "          google.colab.kernel.accessAllowed ? 'block' : 'none';\n",
              "\n",
              "        async function convertToInteractive(key) {\n",
              "          const element = document.querySelector('#df-d4e9fb28-21df-49e0-9123-10795a048524');\n",
              "          const dataTable =\n",
              "            await google.colab.kernel.invokeFunction('convertToInteractive',\n",
              "                                                     [key], {});\n",
              "          if (!dataTable) return;\n",
              "\n",
              "          const docLinkHtml = 'Like what you see? Visit the ' +\n",
              "            '<a target=\"_blank\" href=https://colab.research.google.com/notebooks/data_table.ipynb>data table notebook</a>'\n",
              "            + ' to learn more about interactive tables.';\n",
              "          element.innerHTML = '';\n",
              "          dataTable['output_type'] = 'display_data';\n",
              "          await google.colab.output.renderOutput(dataTable, element);\n",
              "          const docLink = document.createElement('div');\n",
              "          docLink.innerHTML = docLinkHtml;\n",
              "          element.appendChild(docLink);\n",
              "        }\n",
              "      </script>\n",
              "    </div>\n",
              "  </div>\n",
              "  "
            ]
          },
          "metadata": {},
          "execution_count": 9
        }
      ],
      "source": [
        "df_init"
      ]
    },
    {
      "cell_type": "markdown",
      "metadata": {
        "id": "G7LrXunnCQqP"
      },
      "source": [
        "## Q2: Please preprocess the dataset for the analysis?"
      ]
    },
    {
      "cell_type": "markdown",
      "metadata": {
        "cell_id": "00004-772790d9-69c3-4135-b171-a6819e58676e",
        "id": "Od3vxq4UVTRH",
        "tags": []
      },
      "source": [
        "Preprocessing"
      ]
    },
    {
      "cell_type": "code",
      "execution_count": null,
      "metadata": {
        "id": "Ymn3rPn4vSFX"
      },
      "outputs": [],
      "source": [
        "#------------preprocessing--------------\n",
        "\n",
        "from sklearn.preprocessing import StandardScaler\n",
        "\n",
        "#Scale Time and Amount as other features:\n",
        "df_init['Time'] = StandardScaler().fit_transform(df_init['Time'].values.reshape(-1, 1))\n",
        "df_init['Amount'] = StandardScaler().fit_transform(df_init['Amount'].values.reshape(-1, 1))\n",
        "\n",
        "#Split the dataset:\n",
        "x = df_init.drop(['Class'], axis = 1)\n",
        "y = df_init['Class']\n",
        "\n",
        "#Normalize the data to 0-1:\n",
        "for col in x.columns: # Min-max scaling => (x - min(x)) / max(x) - min(x) n \n",
        "    x.loc[:,col]=(x.loc[:,col]-x.loc[:,col].min())/(x.loc[:,col].max()-x.loc[:,col].min())\n",
        "\n"
      ]
    },
    {
      "cell_type": "markdown",
      "metadata": {
        "cell_id": "00006-2bceecaf-89a8-40d3-9df9-02ffc1b90cdf",
        "id": "SW7i9_AKVTRP",
        "tags": []
      },
      "source": [
        "Train-Validation-Test-Split + SMOKE"
      ]
    },
    {
      "cell_type": "code",
      "execution_count": null,
      "metadata": {
        "cell_id": "00004-df38ae87-3117-4ba6-a0c2-4379201aba22",
        "colab": {
          "base_uri": "https://localhost:8080/"
        },
        "execution_millis": 438,
        "execution_start": 1605416438753,
        "id": "PvXq2713VTRQ",
        "outputId": "cdeea49a-5536-4fb6-9fad-17b3325b6e00",
        "output_cleared": false,
        "source_hash": "65cadc16",
        "tags": []
      },
      "outputs": [
        {
          "output_type": "stream",
          "name": "stdout",
          "text": [
            "(199364, 30) (85443, 30) (199364,) (85443,)\n",
            "After OverSampling, the shape of train_X: (398012, 30)\n",
            "After OverSampling, the shape of train_y: (398012,) \n",
            "\n",
            "After OverSampling, counts of label '1': 199006\n",
            "After OverSampling, counts of label '0': 199006\n"
          ]
        }
      ],
      "source": [
        "#Train Test Split + SMOKE: oversample the minority case\n",
        "from imblearn.over_sampling import SMOTE\n",
        "from sklearn.model_selection import train_test_split\n",
        "\n",
        "x_train, x_test, y_train, y_test =train_test_split(x,y,test_size=0.3, random_state=2)\n",
        "\n",
        "print(x_train.shape, x_test.shape, y_train.shape, y_test.shape)\n",
        "\n",
        "\n",
        "#SMOTE\n",
        "\n",
        "smt = SMOTE(random_state=2)\n",
        "x_train_res, y_train_res = smt.fit_resample(x_train, y_train.ravel())\n",
        "\n",
        "print('After OverSampling, the shape of train_X: {}'.format(x_train_res.shape))\n",
        "print('After OverSampling, the shape of train_y: {} \\n'.format(y_train_res.shape))\n",
        "\n",
        "print(\"After OverSampling, counts of label '1': {}\".format(sum(y_train_res==1)))\n",
        "print(\"After OverSampling, counts of label '0': {}\".format(sum(y_train_res==0)))\n",
        "\n",
        "\n"
      ]
    },
    {
      "cell_type": "code",
      "execution_count": null,
      "metadata": {
        "id": "B3yR-HxMEp45",
        "colab": {
          "base_uri": "https://localhost:8080/"
        },
        "outputId": "a8660fa3-0a11-4531-983c-38b6a77a2c8f"
      },
      "outputs": [
        {
          "output_type": "stream",
          "name": "stdout",
          "text": [
            "Looking in indexes: https://pypi.org/simple, https://us-python.pkg.dev/colab-wheels/public/simple/\n",
            "Collecting keras_visualizer\n",
            "  Downloading keras_visualizer-2.4-py3-none-any.whl (5.4 kB)\n",
            "Installing collected packages: keras-visualizer\n",
            "Successfully installed keras-visualizer-2.4\n"
          ]
        }
      ],
      "source": [
        "!pip install keras_visualizer\n",
        "from keras.models import Sequential\n",
        "from keras.layers import Dense, Dropout\n",
        "from keras.regularizers import l2\n",
        "from tensorflow.keras.optimizers import SGD\n",
        "from keras_visualizer import visualizer\n",
        "\n"
      ]
    },
    {
      "cell_type": "code",
      "source": [
        "##我改到这里了！\n",
        "model=Sequential()\n",
        "model.add(Dense(128,input_shape=(x_train_res.shape[1],), activation='relu'))\n",
        "model.add(Dense(32, activation='relu'))\n",
        "model.add(Dense(8, activation='relu'))\n",
        "model.add(Dense(1,activation=\"sigmoid\")) \n",
        "visualizer(model,filename =  'graph01', format = 'png', view = True)\n",
        "\n",
        "\n",
        "model.compile(optimizer='rmsprop', loss='mse', metrics=['accuracy']) #if regression: mterics should be error;\n",
        "history = model.fit(x_train_res,y_train_res, validation_data=(x_test, y_test),\n",
        "          batch_size= 80, epochs=30) #batch+-10,epochs +-50"
      ],
      "metadata": {
        "colab": {
          "base_uri": "https://localhost:8080/",
          "height": 398
        },
        "id": "NWzdn7XXxDph",
        "outputId": "22869072-3ef3-451a-86f8-1c6a67b0aac0"
      },
      "execution_count": null,
      "outputs": [
        {
          "output_type": "stream",
          "name": "stdout",
          "text": [
            "Epoch 1/30\n",
            "1358/4976 [=======>......................] - ETA: 11s - loss: 0.1010 - accuracy: 0.9114"
          ]
        },
        {
          "output_type": "error",
          "ename": "KeyboardInterrupt",
          "evalue": "ignored",
          "traceback": [
            "\u001b[0;31m---------------------------------------------------------------------------\u001b[0m",
            "\u001b[0;31mKeyboardInterrupt\u001b[0m                         Traceback (most recent call last)",
            "\u001b[0;32m<ipython-input-10-2f566842ff04>\u001b[0m in \u001b[0;36m<module>\u001b[0;34m\u001b[0m\n\u001b[1;32m      8\u001b[0m \u001b[0;34m\u001b[0m\u001b[0m\n\u001b[1;32m      9\u001b[0m \u001b[0mmodel\u001b[0m\u001b[0;34m.\u001b[0m\u001b[0mcompile\u001b[0m\u001b[0;34m(\u001b[0m\u001b[0moptimizer\u001b[0m\u001b[0;34m=\u001b[0m\u001b[0;34m'rmsprop'\u001b[0m\u001b[0;34m,\u001b[0m \u001b[0mloss\u001b[0m\u001b[0;34m=\u001b[0m\u001b[0;34m'mse'\u001b[0m\u001b[0;34m,\u001b[0m \u001b[0mmetrics\u001b[0m\u001b[0;34m=\u001b[0m\u001b[0;34m[\u001b[0m\u001b[0;34m'accuracy'\u001b[0m\u001b[0;34m]\u001b[0m\u001b[0;34m)\u001b[0m \u001b[0;31m#if regression: mterics should be error;\u001b[0m\u001b[0;34m\u001b[0m\u001b[0;34m\u001b[0m\u001b[0m\n\u001b[0;32m---> 10\u001b[0;31m history = model.fit(x_train_res,y_train_res, validation_data=(x_test, y_test),\n\u001b[0m\u001b[1;32m     11\u001b[0m           batch_size= 80, epochs=30) #batch+-10,epochs +-50\n",
            "\u001b[0;32m/usr/local/lib/python3.8/dist-packages/keras/utils/traceback_utils.py\u001b[0m in \u001b[0;36merror_handler\u001b[0;34m(*args, **kwargs)\u001b[0m\n\u001b[1;32m     62\u001b[0m     \u001b[0mfiltered_tb\u001b[0m \u001b[0;34m=\u001b[0m \u001b[0;32mNone\u001b[0m\u001b[0;34m\u001b[0m\u001b[0;34m\u001b[0m\u001b[0m\n\u001b[1;32m     63\u001b[0m     \u001b[0;32mtry\u001b[0m\u001b[0;34m:\u001b[0m\u001b[0;34m\u001b[0m\u001b[0;34m\u001b[0m\u001b[0m\n\u001b[0;32m---> 64\u001b[0;31m       \u001b[0;32mreturn\u001b[0m \u001b[0mfn\u001b[0m\u001b[0;34m(\u001b[0m\u001b[0;34m*\u001b[0m\u001b[0margs\u001b[0m\u001b[0;34m,\u001b[0m \u001b[0;34m**\u001b[0m\u001b[0mkwargs\u001b[0m\u001b[0;34m)\u001b[0m\u001b[0;34m\u001b[0m\u001b[0;34m\u001b[0m\u001b[0m\n\u001b[0m\u001b[1;32m     65\u001b[0m     \u001b[0;32mexcept\u001b[0m \u001b[0mException\u001b[0m \u001b[0;32mas\u001b[0m \u001b[0me\u001b[0m\u001b[0;34m:\u001b[0m  \u001b[0;31m# pylint: disable=broad-except\u001b[0m\u001b[0;34m\u001b[0m\u001b[0;34m\u001b[0m\u001b[0m\n\u001b[1;32m     66\u001b[0m       \u001b[0mfiltered_tb\u001b[0m \u001b[0;34m=\u001b[0m \u001b[0m_process_traceback_frames\u001b[0m\u001b[0;34m(\u001b[0m\u001b[0me\u001b[0m\u001b[0;34m.\u001b[0m\u001b[0m__traceback__\u001b[0m\u001b[0;34m)\u001b[0m\u001b[0;34m\u001b[0m\u001b[0;34m\u001b[0m\u001b[0m\n",
            "\u001b[0;32m/usr/local/lib/python3.8/dist-packages/keras/engine/training.py\u001b[0m in \u001b[0;36mfit\u001b[0;34m(self, x, y, batch_size, epochs, verbose, callbacks, validation_split, validation_data, shuffle, class_weight, sample_weight, initial_epoch, steps_per_epoch, validation_steps, validation_batch_size, validation_freq, max_queue_size, workers, use_multiprocessing)\u001b[0m\n\u001b[1;32m   1407\u001b[0m                 _r=1):\n\u001b[1;32m   1408\u001b[0m               \u001b[0mcallbacks\u001b[0m\u001b[0;34m.\u001b[0m\u001b[0mon_train_batch_begin\u001b[0m\u001b[0;34m(\u001b[0m\u001b[0mstep\u001b[0m\u001b[0;34m)\u001b[0m\u001b[0;34m\u001b[0m\u001b[0;34m\u001b[0m\u001b[0m\n\u001b[0;32m-> 1409\u001b[0;31m               \u001b[0mtmp_logs\u001b[0m \u001b[0;34m=\u001b[0m \u001b[0mself\u001b[0m\u001b[0;34m.\u001b[0m\u001b[0mtrain_function\u001b[0m\u001b[0;34m(\u001b[0m\u001b[0miterator\u001b[0m\u001b[0;34m)\u001b[0m\u001b[0;34m\u001b[0m\u001b[0;34m\u001b[0m\u001b[0m\n\u001b[0m\u001b[1;32m   1410\u001b[0m               \u001b[0;32mif\u001b[0m \u001b[0mdata_handler\u001b[0m\u001b[0;34m.\u001b[0m\u001b[0mshould_sync\u001b[0m\u001b[0;34m:\u001b[0m\u001b[0;34m\u001b[0m\u001b[0;34m\u001b[0m\u001b[0m\n\u001b[1;32m   1411\u001b[0m                 \u001b[0mcontext\u001b[0m\u001b[0;34m.\u001b[0m\u001b[0masync_wait\u001b[0m\u001b[0;34m(\u001b[0m\u001b[0;34m)\u001b[0m\u001b[0;34m\u001b[0m\u001b[0;34m\u001b[0m\u001b[0m\n",
            "\u001b[0;32m/usr/local/lib/python3.8/dist-packages/tensorflow/python/util/traceback_utils.py\u001b[0m in \u001b[0;36merror_handler\u001b[0;34m(*args, **kwargs)\u001b[0m\n\u001b[1;32m    148\u001b[0m     \u001b[0mfiltered_tb\u001b[0m \u001b[0;34m=\u001b[0m \u001b[0;32mNone\u001b[0m\u001b[0;34m\u001b[0m\u001b[0;34m\u001b[0m\u001b[0m\n\u001b[1;32m    149\u001b[0m     \u001b[0;32mtry\u001b[0m\u001b[0;34m:\u001b[0m\u001b[0;34m\u001b[0m\u001b[0;34m\u001b[0m\u001b[0m\n\u001b[0;32m--> 150\u001b[0;31m       \u001b[0;32mreturn\u001b[0m \u001b[0mfn\u001b[0m\u001b[0;34m(\u001b[0m\u001b[0;34m*\u001b[0m\u001b[0margs\u001b[0m\u001b[0;34m,\u001b[0m \u001b[0;34m**\u001b[0m\u001b[0mkwargs\u001b[0m\u001b[0;34m)\u001b[0m\u001b[0;34m\u001b[0m\u001b[0;34m\u001b[0m\u001b[0m\n\u001b[0m\u001b[1;32m    151\u001b[0m     \u001b[0;32mexcept\u001b[0m \u001b[0mException\u001b[0m \u001b[0;32mas\u001b[0m \u001b[0me\u001b[0m\u001b[0;34m:\u001b[0m\u001b[0;34m\u001b[0m\u001b[0;34m\u001b[0m\u001b[0m\n\u001b[1;32m    152\u001b[0m       \u001b[0mfiltered_tb\u001b[0m \u001b[0;34m=\u001b[0m \u001b[0m_process_traceback_frames\u001b[0m\u001b[0;34m(\u001b[0m\u001b[0me\u001b[0m\u001b[0;34m.\u001b[0m\u001b[0m__traceback__\u001b[0m\u001b[0;34m)\u001b[0m\u001b[0;34m\u001b[0m\u001b[0;34m\u001b[0m\u001b[0m\n",
            "\u001b[0;32m/usr/local/lib/python3.8/dist-packages/tensorflow/python/eager/def_function.py\u001b[0m in \u001b[0;36m__call__\u001b[0;34m(self, *args, **kwds)\u001b[0m\n\u001b[1;32m    913\u001b[0m \u001b[0;34m\u001b[0m\u001b[0m\n\u001b[1;32m    914\u001b[0m       \u001b[0;32mwith\u001b[0m \u001b[0mOptionalXlaContext\u001b[0m\u001b[0;34m(\u001b[0m\u001b[0mself\u001b[0m\u001b[0;34m.\u001b[0m\u001b[0m_jit_compile\u001b[0m\u001b[0;34m)\u001b[0m\u001b[0;34m:\u001b[0m\u001b[0;34m\u001b[0m\u001b[0;34m\u001b[0m\u001b[0m\n\u001b[0;32m--> 915\u001b[0;31m         \u001b[0mresult\u001b[0m \u001b[0;34m=\u001b[0m \u001b[0mself\u001b[0m\u001b[0;34m.\u001b[0m\u001b[0m_call\u001b[0m\u001b[0;34m(\u001b[0m\u001b[0;34m*\u001b[0m\u001b[0margs\u001b[0m\u001b[0;34m,\u001b[0m \u001b[0;34m**\u001b[0m\u001b[0mkwds\u001b[0m\u001b[0;34m)\u001b[0m\u001b[0;34m\u001b[0m\u001b[0;34m\u001b[0m\u001b[0m\n\u001b[0m\u001b[1;32m    916\u001b[0m \u001b[0;34m\u001b[0m\u001b[0m\n\u001b[1;32m    917\u001b[0m       \u001b[0mnew_tracing_count\u001b[0m \u001b[0;34m=\u001b[0m \u001b[0mself\u001b[0m\u001b[0;34m.\u001b[0m\u001b[0mexperimental_get_tracing_count\u001b[0m\u001b[0;34m(\u001b[0m\u001b[0;34m)\u001b[0m\u001b[0;34m\u001b[0m\u001b[0;34m\u001b[0m\u001b[0m\n",
            "\u001b[0;32m/usr/local/lib/python3.8/dist-packages/tensorflow/python/eager/def_function.py\u001b[0m in \u001b[0;36m_call\u001b[0;34m(self, *args, **kwds)\u001b[0m\n\u001b[1;32m    945\u001b[0m       \u001b[0;31m# In this case we have created variables on the first call, so we run the\u001b[0m\u001b[0;34m\u001b[0m\u001b[0;34m\u001b[0m\u001b[0;34m\u001b[0m\u001b[0m\n\u001b[1;32m    946\u001b[0m       \u001b[0;31m# defunned version which is guaranteed to never create variables.\u001b[0m\u001b[0;34m\u001b[0m\u001b[0;34m\u001b[0m\u001b[0;34m\u001b[0m\u001b[0m\n\u001b[0;32m--> 947\u001b[0;31m       \u001b[0;32mreturn\u001b[0m \u001b[0mself\u001b[0m\u001b[0;34m.\u001b[0m\u001b[0m_stateless_fn\u001b[0m\u001b[0;34m(\u001b[0m\u001b[0;34m*\u001b[0m\u001b[0margs\u001b[0m\u001b[0;34m,\u001b[0m \u001b[0;34m**\u001b[0m\u001b[0mkwds\u001b[0m\u001b[0;34m)\u001b[0m  \u001b[0;31m# pylint: disable=not-callable\u001b[0m\u001b[0;34m\u001b[0m\u001b[0;34m\u001b[0m\u001b[0m\n\u001b[0m\u001b[1;32m    948\u001b[0m     \u001b[0;32melif\u001b[0m \u001b[0mself\u001b[0m\u001b[0;34m.\u001b[0m\u001b[0m_stateful_fn\u001b[0m \u001b[0;32mis\u001b[0m \u001b[0;32mnot\u001b[0m \u001b[0;32mNone\u001b[0m\u001b[0;34m:\u001b[0m\u001b[0;34m\u001b[0m\u001b[0;34m\u001b[0m\u001b[0m\n\u001b[1;32m    949\u001b[0m       \u001b[0;31m# Release the lock early so that multiple threads can perform the call\u001b[0m\u001b[0;34m\u001b[0m\u001b[0;34m\u001b[0m\u001b[0;34m\u001b[0m\u001b[0m\n",
            "\u001b[0;32m/usr/local/lib/python3.8/dist-packages/tensorflow/python/eager/function.py\u001b[0m in \u001b[0;36m__call__\u001b[0;34m(self, *args, **kwargs)\u001b[0m\n\u001b[1;32m   2451\u001b[0m       (graph_function,\n\u001b[1;32m   2452\u001b[0m        filtered_flat_args) = self._maybe_define_function(args, kwargs)\n\u001b[0;32m-> 2453\u001b[0;31m     return graph_function._call_flat(\n\u001b[0m\u001b[1;32m   2454\u001b[0m         filtered_flat_args, captured_inputs=graph_function.captured_inputs)  # pylint: disable=protected-access\n\u001b[1;32m   2455\u001b[0m \u001b[0;34m\u001b[0m\u001b[0m\n",
            "\u001b[0;32m/usr/local/lib/python3.8/dist-packages/tensorflow/python/eager/function.py\u001b[0m in \u001b[0;36m_call_flat\u001b[0;34m(self, args, captured_inputs, cancellation_manager)\u001b[0m\n\u001b[1;32m   1858\u001b[0m         and executing_eagerly):\n\u001b[1;32m   1859\u001b[0m       \u001b[0;31m# No tape is watching; skip to running the function.\u001b[0m\u001b[0;34m\u001b[0m\u001b[0;34m\u001b[0m\u001b[0;34m\u001b[0m\u001b[0m\n\u001b[0;32m-> 1860\u001b[0;31m       return self._build_call_outputs(self._inference_function.call(\n\u001b[0m\u001b[1;32m   1861\u001b[0m           ctx, args, cancellation_manager=cancellation_manager))\n\u001b[1;32m   1862\u001b[0m     forward_backward = self._select_forward_and_backward_functions(\n",
            "\u001b[0;32m/usr/local/lib/python3.8/dist-packages/tensorflow/python/eager/function.py\u001b[0m in \u001b[0;36mcall\u001b[0;34m(self, ctx, args, cancellation_manager)\u001b[0m\n\u001b[1;32m    495\u001b[0m       \u001b[0;32mwith\u001b[0m \u001b[0m_InterpolateFunctionError\u001b[0m\u001b[0;34m(\u001b[0m\u001b[0mself\u001b[0m\u001b[0;34m)\u001b[0m\u001b[0;34m:\u001b[0m\u001b[0;34m\u001b[0m\u001b[0;34m\u001b[0m\u001b[0m\n\u001b[1;32m    496\u001b[0m         \u001b[0;32mif\u001b[0m \u001b[0mcancellation_manager\u001b[0m \u001b[0;32mis\u001b[0m \u001b[0;32mNone\u001b[0m\u001b[0;34m:\u001b[0m\u001b[0;34m\u001b[0m\u001b[0;34m\u001b[0m\u001b[0m\n\u001b[0;32m--> 497\u001b[0;31m           outputs = execute.execute(\n\u001b[0m\u001b[1;32m    498\u001b[0m               \u001b[0mstr\u001b[0m\u001b[0;34m(\u001b[0m\u001b[0mself\u001b[0m\u001b[0;34m.\u001b[0m\u001b[0msignature\u001b[0m\u001b[0;34m.\u001b[0m\u001b[0mname\u001b[0m\u001b[0;34m)\u001b[0m\u001b[0;34m,\u001b[0m\u001b[0;34m\u001b[0m\u001b[0;34m\u001b[0m\u001b[0m\n\u001b[1;32m    499\u001b[0m               \u001b[0mnum_outputs\u001b[0m\u001b[0;34m=\u001b[0m\u001b[0mself\u001b[0m\u001b[0;34m.\u001b[0m\u001b[0m_num_outputs\u001b[0m\u001b[0;34m,\u001b[0m\u001b[0;34m\u001b[0m\u001b[0;34m\u001b[0m\u001b[0m\n",
            "\u001b[0;32m/usr/local/lib/python3.8/dist-packages/tensorflow/python/eager/execute.py\u001b[0m in \u001b[0;36mquick_execute\u001b[0;34m(op_name, num_outputs, inputs, attrs, ctx, name)\u001b[0m\n\u001b[1;32m     52\u001b[0m   \u001b[0;32mtry\u001b[0m\u001b[0;34m:\u001b[0m\u001b[0;34m\u001b[0m\u001b[0;34m\u001b[0m\u001b[0m\n\u001b[1;32m     53\u001b[0m     \u001b[0mctx\u001b[0m\u001b[0;34m.\u001b[0m\u001b[0mensure_initialized\u001b[0m\u001b[0;34m(\u001b[0m\u001b[0;34m)\u001b[0m\u001b[0;34m\u001b[0m\u001b[0;34m\u001b[0m\u001b[0m\n\u001b[0;32m---> 54\u001b[0;31m     tensors = pywrap_tfe.TFE_Py_Execute(ctx._handle, device_name, op_name,\n\u001b[0m\u001b[1;32m     55\u001b[0m                                         inputs, attrs, num_outputs)\n\u001b[1;32m     56\u001b[0m   \u001b[0;32mexcept\u001b[0m \u001b[0mcore\u001b[0m\u001b[0;34m.\u001b[0m\u001b[0m_NotOkStatusException\u001b[0m \u001b[0;32mas\u001b[0m \u001b[0me\u001b[0m\u001b[0;34m:\u001b[0m\u001b[0;34m\u001b[0m\u001b[0;34m\u001b[0m\u001b[0m\n",
            "\u001b[0;31mKeyboardInterrupt\u001b[0m: "
          ]
        }
      ]
    },
    {
      "cell_type": "code",
      "execution_count": null,
      "metadata": {
        "id": "LHQyDxtygwak",
        "colab": {
          "base_uri": "https://localhost:8080/",
          "height": 301
        },
        "outputId": "5fc7596b-5689-447b-baaf-e6ce4708c886"
      },
      "outputs": [
        {
          "output_type": "execute_result",
          "data": {
            "text/plain": [
              "<function matplotlib.pyplot.imshow(X, cmap=None, norm=None, aspect=None, interpolation=None, alpha=None, vmin=None, vmax=None, origin=None, extent=None, shape=<deprecated parameter>, filternorm=1, filterrad=4.0, imlim=<deprecated parameter>, resample=None, url=None, *, data=None, **kwargs)>"
            ]
          },
          "metadata": {},
          "execution_count": 57
        },
        {
          "output_type": "display_data",
          "data": {
            "text/plain": [
              "<Figure size 432x288 with 1 Axes>"
            ],
            "image/png": "[encoded data removed]"
          },
          "metadata": {
            "needs_background": "light"
          }
        }
      ],
      "source": [
        "import matplotlib.pyplot as plt\n",
        "# Plot loss, val_loss\n",
        "plt.plot(history.history[\"loss\"])\n",
        "plt.plot(history.history[\"val_loss\"])\n",
        "plt.imshow"
      ]
    },
    {
      "cell_type": "code",
      "execution_count": null,
      "metadata": {
        "id": "sfvDlNkKgyfA",
        "colab": {
          "base_uri": "https://localhost:8080/",
          "height": 301
        },
        "outputId": "bbd28405-9313-4560-e129-c463ca2671d5"
      },
      "outputs": [
        {
          "output_type": "execute_result",
          "data": {
            "text/plain": [
              "<function matplotlib.pyplot.imshow(X, cmap=None, norm=None, aspect=None, interpolation=None, alpha=None, vmin=None, vmax=None, origin=None, extent=None, shape=<deprecated parameter>, filternorm=1, filterrad=4.0, imlim=<deprecated parameter>, resample=None, url=None, *, data=None, **kwargs)>"
            ]
          },
          "metadata": {},
          "execution_count": 58
        },
        {
          "output_type": "display_data",
          "data": {
            "text/plain": [
              "<Figure size 432x288 with 1 Axes>"
            ],
            "image/png": "[encoded data removed]"
          },
          "metadata": {
            "needs_background": "light"
          }
        }
      ],
      "source": [
        "import matplotlib.pyplot as plt\n",
        "# Plot loss, val_loss\n",
        "plt.plot(history.history[\"accuracy\"])\n",
        "plt.plot(history.history[\"val_accuracy\"])\n",
        "plt.imshow"
      ]
    },
    {
      "cell_type": "code",
      "source": [],
      "metadata": {
        "id": "l5EMY8eIxCdk"
      },
      "execution_count": null,
      "outputs": []
    },
    {
      "cell_type": "code",
      "execution_count": null,
      "metadata": {
        "id": "zYe8p_ofg4HH",
        "colab": {
          "base_uri": "https://localhost:8080/"
        },
        "outputId": "040bf0fa-c0ee-4160-febe-7e256bbfa3bd"
      },
      "outputs": [
        {
          "output_type": "stream",
          "name": "stdout",
          "text": [
            "17/17 [==============================] - 0s 2ms/step\n",
            "0.1782560497522354\n"
          ]
        }
      ],
      "source": [
        "from keras.losses import binary_crossentropy\n",
        "\n",
        "# real y\n",
        "real = test.Class.astype(\"int\").values\n",
        "# predicted y\n",
        "pred = model.predict(test.drop(\"Class\",axis=1)).flatten()\n",
        "# binary_crossentropy\n",
        "print(float(binary_crossentropy(real,pred)))"
      ]
    },
    {
      "cell_type": "code",
      "execution_count": null,
      "metadata": {
        "id": "W-akbGNVg6cV",
        "colab": {
          "base_uri": "https://localhost:8080/"
        },
        "outputId": "0bea3f16-7c18-448f-8e69-19ab910277db"
      },
      "outputs": [
        {
          "output_type": "stream",
          "name": "stdout",
          "text": [
            "0.9637404580152672\n"
          ]
        }
      ],
      "source": [
        "# calculate accuracy\n",
        "pred = [1 if i>0.5 else 0 for i in pred]\n",
        "print(sum(pred==real)/len(pred))"
      ]
    },
    {
      "cell_type": "markdown",
      "metadata": {
        "id": "5MI-zm84jRnI"
      },
      "source": [
        "Comment: Please explain your model and why the results like this. "
      ]
    },
    {
      "cell_type": "markdown",
      "source": [
        "Think about it: Is it underfitting or Overfitting? What are methods to improve results?"
      ],
      "metadata": {
        "id": "Q9CPNDaUmvQ_"
      }
    },
    {
      "cell_type": "markdown",
      "metadata": {
        "id": "qZZfIe1-Ctqe"
      },
      "source": [
        "## Q4: How you can solve the problem and improve your model?"
      ]
    },
    {
      "cell_type": "markdown",
      "metadata": {
        "cell_id": "00012-8942aa20-c103-4078-9e3f-473e4f204319",
        "id": "s8T83i1sVTRn",
        "tags": []
      },
      "source": [
        "### Please add the Dropout on your model. "
      ]
    },
    {
      "cell_type": "code",
      "execution_count": null,
      "metadata": {
        "id": "rlKAHsKlExw5",
        "colab": {
          "base_uri": "https://localhost:8080/"
        },
        "outputId": "7cacb4ac-b68c-41b7-e8ca-7c3aa75ac9cb"
      },
      "outputs": [
        {
          "output_type": "stream",
          "name": "stdout",
          "text": [
            "Epoch 1/50\n",
            "31/31 [==============================] - 1s 10ms/step - loss: 0.2804 - accuracy: 0.9173 - val_loss: 0.1577 - val_accuracy: 0.9561\n",
            "Epoch 2/50\n",
            "31/31 [==============================] - 0s 3ms/step - loss: 0.1533 - accuracy: 0.9583 - val_loss: 0.1366 - val_accuracy: 0.9599\n",
            "Epoch 3/50\n",
            "31/31 [==============================] - 0s 4ms/step - loss: 0.1236 - accuracy: 0.9636 - val_loss: 0.1348 - val_accuracy: 0.9637\n",
            "Epoch 4/50\n",
            "31/31 [==============================] - 0s 4ms/step - loss: 0.1107 - accuracy: 0.9677 - val_loss: 0.1224 - val_accuracy: 0.9656\n",
            "Epoch 5/50\n",
            "31/31 [==============================] - 0s 4ms/step - loss: 0.1070 - accuracy: 0.9705 - val_loss: 0.1220 - val_accuracy: 0.9656\n",
            "Epoch 6/50\n",
            "31/31 [==============================] - 0s 3ms/step - loss: 0.1021 - accuracy: 0.9714 - val_loss: 0.1149 - val_accuracy: 0.9695\n",
            "Epoch 7/50\n",
            "31/31 [==============================] - 0s 4ms/step - loss: 0.0952 - accuracy: 0.9730 - val_loss: 0.1204 - val_accuracy: 0.9714\n",
            "Epoch 8/50\n",
            "31/31 [==============================] - 0s 3ms/step - loss: 0.0950 - accuracy: 0.9693 - val_loss: 0.1231 - val_accuracy: 0.9695\n",
            "Epoch 9/50\n",
            "31/31 [==============================] - 0s 4ms/step - loss: 0.0958 - accuracy: 0.9734 - val_loss: 0.1159 - val_accuracy: 0.9695\n",
            "Epoch 10/50\n",
            "31/31 [==============================] - 0s 4ms/step - loss: 0.0933 - accuracy: 0.9730 - val_loss: 0.1119 - val_accuracy: 0.9695\n",
            "Epoch 11/50\n",
            "31/31 [==============================] - 0s 4ms/step - loss: 0.0886 - accuracy: 0.9746 - val_loss: 0.1200 - val_accuracy: 0.9676\n",
            "Epoch 12/50\n",
            "31/31 [==============================] - 0s 3ms/step - loss: 0.0863 - accuracy: 0.9738 - val_loss: 0.1180 - val_accuracy: 0.9695\n",
            "Epoch 13/50\n",
            "31/31 [==============================] - 0s 4ms/step - loss: 0.0867 - accuracy: 0.9783 - val_loss: 0.1088 - val_accuracy: 0.9714\n",
            "Epoch 14/50\n",
            "31/31 [==============================] - 0s 4ms/step - loss: 0.0864 - accuracy: 0.9755 - val_loss: 0.1114 - val_accuracy: 0.9695\n",
            "Epoch 15/50\n",
            "31/31 [==============================] - 0s 4ms/step - loss: 0.0820 - accuracy: 0.9783 - val_loss: 0.1085 - val_accuracy: 0.9695\n",
            "Epoch 16/50\n",
            "31/31 [==============================] - 0s 3ms/step - loss: 0.0837 - accuracy: 0.9738 - val_loss: 0.1114 - val_accuracy: 0.9695\n",
            "Epoch 17/50\n",
            "31/31 [==============================] - 0s 3ms/step - loss: 0.0807 - accuracy: 0.9750 - val_loss: 0.1171 - val_accuracy: 0.9714\n",
            "Epoch 18/50\n",
            "31/31 [==============================] - 0s 4ms/step - loss: 0.0793 - accuracy: 0.9771 - val_loss: 0.1025 - val_accuracy: 0.9714\n",
            "Epoch 19/50\n",
            "31/31 [==============================] - 0s 4ms/step - loss: 0.0760 - accuracy: 0.9775 - val_loss: 0.1137 - val_accuracy: 0.9695\n",
            "Epoch 20/50\n",
            "31/31 [==============================] - 0s 4ms/step - loss: 0.0767 - accuracy: 0.9779 - val_loss: 0.1058 - val_accuracy: 0.9714\n",
            "Epoch 21/50\n",
            "31/31 [==============================] - 0s 4ms/step - loss: 0.0768 - accuracy: 0.9775 - val_loss: 0.0995 - val_accuracy: 0.9733\n",
            "Epoch 22/50\n",
            "31/31 [==============================] - 0s 4ms/step - loss: 0.0712 - accuracy: 0.9787 - val_loss: 0.1176 - val_accuracy: 0.9695\n",
            "Epoch 23/50\n",
            "31/31 [==============================] - 0s 3ms/step - loss: 0.0739 - accuracy: 0.9791 - val_loss: 0.1069 - val_accuracy: 0.9714\n",
            "Epoch 24/50\n",
            "31/31 [==============================] - 0s 4ms/step - loss: 0.0726 - accuracy: 0.9808 - val_loss: 0.1079 - val_accuracy: 0.9714\n",
            "Epoch 25/50\n",
            "31/31 [==============================] - 0s 4ms/step - loss: 0.0692 - accuracy: 0.9808 - val_loss: 0.1120 - val_accuracy: 0.9695\n",
            "Epoch 26/50\n",
            "31/31 [==============================] - 0s 3ms/step - loss: 0.0659 - accuracy: 0.9816 - val_loss: 0.1166 - val_accuracy: 0.9676\n",
            "Epoch 27/50\n",
            "31/31 [==============================] - 0s 4ms/step - loss: 0.0660 - accuracy: 0.9800 - val_loss: 0.1090 - val_accuracy: 0.9695\n",
            "Epoch 28/50\n",
            "31/31 [==============================] - 0s 4ms/step - loss: 0.0652 - accuracy: 0.9795 - val_loss: 0.1054 - val_accuracy: 0.9733\n",
            "Epoch 29/50\n",
            "31/31 [==============================] - 0s 4ms/step - loss: 0.0627 - accuracy: 0.9808 - val_loss: 0.1114 - val_accuracy: 0.9752\n",
            "Epoch 30/50\n",
            "31/31 [==============================] - 0s 4ms/step - loss: 0.0650 - accuracy: 0.9816 - val_loss: 0.1144 - val_accuracy: 0.9714\n",
            "Epoch 31/50\n",
            "31/31 [==============================] - 0s 4ms/step - loss: 0.0596 - accuracy: 0.9824 - val_loss: 0.1185 - val_accuracy: 0.9714\n",
            "Epoch 32/50\n",
            "31/31 [==============================] - 0s 4ms/step - loss: 0.0613 - accuracy: 0.9812 - val_loss: 0.1091 - val_accuracy: 0.9752\n",
            "Epoch 33/50\n",
            "31/31 [==============================] - 0s 4ms/step - loss: 0.0627 - accuracy: 0.9820 - val_loss: 0.1079 - val_accuracy: 0.9752\n",
            "Epoch 34/50\n",
            "31/31 [==============================] - 0s 3ms/step - loss: 0.0594 - accuracy: 0.9816 - val_loss: 0.1254 - val_accuracy: 0.9695\n",
            "Epoch 35/50\n",
            "31/31 [==============================] - 0s 4ms/step - loss: 0.0611 - accuracy: 0.9816 - val_loss: 0.1160 - val_accuracy: 0.9733\n",
            "Epoch 36/50\n",
            "31/31 [==============================] - 0s 4ms/step - loss: 0.0590 - accuracy: 0.9820 - val_loss: 0.1079 - val_accuracy: 0.9714\n",
            "Epoch 37/50\n",
            "31/31 [==============================] - 0s 3ms/step - loss: 0.0583 - accuracy: 0.9812 - val_loss: 0.1239 - val_accuracy: 0.9714\n",
            "Epoch 38/50\n",
            "31/31 [==============================] - 0s 3ms/step - loss: 0.0557 - accuracy: 0.9820 - val_loss: 0.1050 - val_accuracy: 0.9733\n",
            "Epoch 39/50\n",
            "31/31 [==============================] - 0s 3ms/step - loss: 0.0574 - accuracy: 0.9816 - val_loss: 0.1103 - val_accuracy: 0.9714\n",
            "Epoch 40/50\n",
            "31/31 [==============================] - 0s 4ms/step - loss: 0.0559 - accuracy: 0.9820 - val_loss: 0.1311 - val_accuracy: 0.9714\n",
            "Epoch 41/50\n",
            "31/31 [==============================] - 0s 4ms/step - loss: 0.0605 - accuracy: 0.9808 - val_loss: 0.1133 - val_accuracy: 0.9714\n",
            "Epoch 42/50\n",
            "31/31 [==============================] - 0s 4ms/step - loss: 0.0551 - accuracy: 0.9832 - val_loss: 0.1240 - val_accuracy: 0.9733\n",
            "Epoch 43/50\n",
            "31/31 [==============================] - 0s 3ms/step - loss: 0.0505 - accuracy: 0.9861 - val_loss: 0.1189 - val_accuracy: 0.9695\n",
            "Epoch 44/50\n",
            "31/31 [==============================] - 0s 4ms/step - loss: 0.0520 - accuracy: 0.9828 - val_loss: 0.1128 - val_accuracy: 0.9733\n",
            "Epoch 45/50\n",
            "31/31 [==============================] - 0s 3ms/step - loss: 0.0533 - accuracy: 0.9849 - val_loss: 0.1316 - val_accuracy: 0.9733\n",
            "Epoch 46/50\n",
            "31/31 [==============================] - 0s 3ms/step - loss: 0.0540 - accuracy: 0.9816 - val_loss: 0.1157 - val_accuracy: 0.9733\n",
            "Epoch 47/50\n",
            "31/31 [==============================] - 0s 3ms/step - loss: 0.0478 - accuracy: 0.9836 - val_loss: 0.1336 - val_accuracy: 0.9752\n",
            "Epoch 48/50\n",
            "31/31 [==============================] - 0s 4ms/step - loss: 0.0536 - accuracy: 0.9836 - val_loss: 0.1208 - val_accuracy: 0.9714\n",
            "Epoch 49/50\n",
            "31/31 [==============================] - 0s 4ms/step - loss: 0.0535 - accuracy: 0.9836 - val_loss: 0.1242 - val_accuracy: 0.9752\n",
            "Epoch 50/50\n",
            "31/31 [==============================] - 0s 4ms/step - loss: 0.0486 - accuracy: 0.9865 - val_loss: 0.1184 - val_accuracy: 0.9752\n"
          ]
        }
      ],
      "source": [
        "# Dropout\n",
        "from keras.models import Sequential\n",
        "from keras.layers import Dense, Dropout\n",
        "from keras.regularizers import l2\n",
        "\n",
        "\n",
        "model=Sequential()\n",
        "model.add(Dense(128,input_shape=(df.shape[1]-1,), activation='relu'))\n",
        "model.add(Dropout(0.2))\n",
        "model.add(Dense(32, activation='relu'))\n",
        "model.add(Dropout(0.1))\n",
        "model.add(Dense(8, activation='relu'))\n",
        "model.add(Dense(1,activation=\"sigmoid\")) \n",
        "\n",
        "\n",
        "model.compile(optimizer='rmsprop', loss='binary_crossentropy', metrics=['accuracy']) #if regression: mterics should be error;\n",
        "history = model.fit(train.drop(\"Class\",axis=1),train[\"Class\"], #drop the output column\n",
        "                    validation_data=(validation.drop(\"Class\",axis=1),validation[\"Class\"]),\n",
        "          batch_size= 80, epochs=50) #batch+-10,epochs +-50"
      ]
    },
    {
      "cell_type": "code",
      "execution_count": null,
      "metadata": {
        "id": "KUvUpS_FiD8T",
        "colab": {
          "base_uri": "https://localhost:8080/",
          "height": 301
        },
        "outputId": "6ee460d8-0f02-4703-cc7f-d2314f45e198"
      },
      "outputs": [
        {
          "output_type": "execute_result",
          "data": {
            "text/plain": [
              "<function matplotlib.pyplot.imshow(X, cmap=None, norm=None, aspect=None, interpolation=None, alpha=None, vmin=None, vmax=None, origin=None, extent=None, shape=<deprecated parameter>, filternorm=1, filterrad=4.0, imlim=<deprecated parameter>, resample=None, url=None, *, data=None, **kwargs)>"
            ]
          },
          "metadata": {},
          "execution_count": 62
        },
        {
          "output_type": "display_data",
          "data": {
            "text/plain": [
              "<Figure size 432x288 with 1 Axes>"
            ],
            "image/png": "[encoded data removed]"
          },
          "metadata": {
            "needs_background": "light"
          }
        }
      ],
      "source": [
        "# same as above, plot loss, val_loss\n",
        "plt.plot(history.history[\"loss\"])\n",
        "plt.plot(history.history[\"val_loss\"])\n",
        "plt.imshow"
      ]
    },
    {
      "cell_type": "code",
      "execution_count": null,
      "metadata": {
        "id": "HMHJt4EviGE3",
        "colab": {
          "base_uri": "https://localhost:8080/",
          "height": 301
        },
        "outputId": "63682c1e-8b4f-412a-f341-ef8fdb420342"
      },
      "outputs": [
        {
          "output_type": "execute_result",
          "data": {
            "text/plain": [
              "<function matplotlib.pyplot.imshow(X, cmap=None, norm=None, aspect=None, interpolation=None, alpha=None, vmin=None, vmax=None, origin=None, extent=None, shape=<deprecated parameter>, filternorm=1, filterrad=4.0, imlim=<deprecated parameter>, resample=None, url=None, *, data=None, **kwargs)>"
            ]
          },
          "metadata": {},
          "execution_count": 63
        },
        {
          "output_type": "display_data",
          "data": {
            "text/plain": [
              "<Figure size 432x288 with 1 Axes>"
            ],
            "image/png": "[encoded data removed]"
          },
          "metadata": {
            "needs_background": "light"
          }
        }
      ],
      "source": [
        "# same as above, plot accuracy, val_accuracy\n",
        "plt.plot(history.history[\"accuracy\"])\n",
        "plt.plot(history.history[\"val_accuracy\"])\n",
        "plt.imshow"
      ]
    },
    {
      "cell_type": "code",
      "execution_count": null,
      "metadata": {
        "id": "kF4RblsviINQ",
        "colab": {
          "base_uri": "https://localhost:8080/"
        },
        "outputId": "b88d4417-f602-45e0-fffc-3fbc3ddc67b1"
      },
      "outputs": [
        {
          "output_type": "stream",
          "name": "stdout",
          "text": [
            "17/17 [==============================] - 0s 1ms/step\n",
            "0.16810005903244019\n"
          ]
        }
      ],
      "source": [
        "# same as above, calculate  binary_crossentropy\n",
        "from keras.losses import binary_crossentropy\n",
        "real = test.Class.astype(\"int\").values\n",
        "pred = model.predict(test.drop(\"Class\",axis=1)).flatten()\n",
        "print(float(binary_crossentropy(real,pred)))"
      ]
    },
    {
      "cell_type": "code",
      "execution_count": null,
      "metadata": {
        "id": "hXWkFNxniKYE",
        "colab": {
          "base_uri": "https://localhost:8080/"
        },
        "outputId": "e0b9b1d1-4406-4118-a01d-76baa5536683"
      },
      "outputs": [
        {
          "output_type": "stream",
          "name": "stdout",
          "text": [
            "0.9618320610687023\n"
          ]
        }
      ],
      "source": [
        "# Again, calculate accuracy\n",
        "pred = [1 if i>0.5 else 0 for i in pred]\n",
        "print(sum(pred==real)/len(pred))"
      ]
    },
    {
      "cell_type": "markdown",
      "metadata": {
        "id": "gWRc4T2hkYrh"
      },
      "source": [
        "Comment: Please explain your model and why the results like this. "
      ]
    },
    {
      "cell_type": "markdown",
      "metadata": {
        "cell_id": "00018-2cd9032d-4d32-4afa-83c4-1dc2fd0d5892",
        "id": "-q0qSj2AVTR3",
        "tags": []
      },
      "source": [
        "### Please add L2 Weight Regularization"
      ]
    },
    {
      "cell_type": "markdown",
      "metadata": {
        "id": "35kHoELaylfe"
      },
      "source": [
        "- Softmax, LR decay, optimizers, units, and layers"
      ]
    },
    {
      "cell_type": "code",
      "execution_count": null,
      "metadata": {
        "id": "GfNrAbA4E1HX",
        "colab": {
          "base_uri": "https://localhost:8080/"
        },
        "outputId": "1e133d47-f2b5-405e-9a3e-b6861e47de85"
      },
      "outputs": [
        {
          "output_type": "stream",
          "name": "stdout",
          "text": [
            "Epoch 1/50\n",
            "31/31 [==============================] - 1s 10ms/step - loss: 1.0686 - accuracy: 0.9227 - val_loss: 0.8254 - val_accuracy: 0.9561\n",
            "Epoch 2/50\n",
            "31/31 [==============================] - 0s 4ms/step - loss: 0.6996 - accuracy: 0.9595 - val_loss: 0.5943 - val_accuracy: 0.9637\n",
            "Epoch 3/50\n",
            "31/31 [==============================] - 0s 3ms/step - loss: 0.5003 - accuracy: 0.9652 - val_loss: 0.4427 - val_accuracy: 0.9599\n",
            "Epoch 4/50\n",
            "31/31 [==============================] - 0s 3ms/step - loss: 0.3654 - accuracy: 0.9689 - val_loss: 0.3354 - val_accuracy: 0.9618\n",
            "Epoch 5/50\n",
            "31/31 [==============================] - 0s 4ms/step - loss: 0.2804 - accuracy: 0.9677 - val_loss: 0.2687 - val_accuracy: 0.9637\n",
            "Epoch 6/50\n",
            "31/31 [==============================] - 0s 4ms/step - loss: 0.2297 - accuracy: 0.9701 - val_loss: 0.2380 - val_accuracy: 0.9618\n",
            "Epoch 7/50\n",
            "31/31 [==============================] - 0s 3ms/step - loss: 0.1989 - accuracy: 0.9689 - val_loss: 0.2137 - val_accuracy: 0.9618\n",
            "Epoch 8/50\n",
            "31/31 [==============================] - 0s 3ms/step - loss: 0.1788 - accuracy: 0.9701 - val_loss: 0.1889 - val_accuracy: 0.9637\n",
            "Epoch 9/50\n",
            "31/31 [==============================] - 0s 4ms/step - loss: 0.1663 - accuracy: 0.9701 - val_loss: 0.1852 - val_accuracy: 0.9637\n",
            "Epoch 10/50\n",
            "31/31 [==============================] - 0s 4ms/step - loss: 0.1577 - accuracy: 0.9697 - val_loss: 0.1737 - val_accuracy: 0.9637\n",
            "Epoch 11/50\n",
            "31/31 [==============================] - 0s 3ms/step - loss: 0.1515 - accuracy: 0.9705 - val_loss: 0.1738 - val_accuracy: 0.9637\n",
            "Epoch 12/50\n",
            "31/31 [==============================] - 0s 3ms/step - loss: 0.1472 - accuracy: 0.9701 - val_loss: 0.1665 - val_accuracy: 0.9618\n",
            "Epoch 13/50\n",
            "31/31 [==============================] - 0s 3ms/step - loss: 0.1428 - accuracy: 0.9705 - val_loss: 0.1649 - val_accuracy: 0.9637\n",
            "Epoch 14/50\n",
            "31/31 [==============================] - 0s 4ms/step - loss: 0.1383 - accuracy: 0.9705 - val_loss: 0.1653 - val_accuracy: 0.9637\n",
            "Epoch 15/50\n",
            "31/31 [==============================] - 0s 4ms/step - loss: 0.1352 - accuracy: 0.9714 - val_loss: 0.1630 - val_accuracy: 0.9637\n",
            "Epoch 16/50\n",
            "31/31 [==============================] - 0s 3ms/step - loss: 0.1326 - accuracy: 0.9718 - val_loss: 0.1627 - val_accuracy: 0.9618\n",
            "Epoch 17/50\n",
            "31/31 [==============================] - 0s 3ms/step - loss: 0.1321 - accuracy: 0.9726 - val_loss: 0.1548 - val_accuracy: 0.9637\n",
            "Epoch 18/50\n",
            "31/31 [==============================] - 0s 4ms/step - loss: 0.1294 - accuracy: 0.9705 - val_loss: 0.1540 - val_accuracy: 0.9656\n",
            "Epoch 19/50\n",
            "31/31 [==============================] - 0s 3ms/step - loss: 0.1269 - accuracy: 0.9709 - val_loss: 0.1576 - val_accuracy: 0.9637\n",
            "Epoch 20/50\n",
            "31/31 [==============================] - 0s 3ms/step - loss: 0.1260 - accuracy: 0.9718 - val_loss: 0.1540 - val_accuracy: 0.9656\n",
            "Epoch 21/50\n",
            "31/31 [==============================] - 0s 3ms/step - loss: 0.1246 - accuracy: 0.9705 - val_loss: 0.1588 - val_accuracy: 0.9637\n",
            "Epoch 22/50\n",
            "31/31 [==============================] - 0s 3ms/step - loss: 0.1244 - accuracy: 0.9730 - val_loss: 0.1507 - val_accuracy: 0.9676\n",
            "Epoch 23/50\n",
            "31/31 [==============================] - 0s 4ms/step - loss: 0.1200 - accuracy: 0.9726 - val_loss: 0.1841 - val_accuracy: 0.9561\n",
            "Epoch 24/50\n",
            "31/31 [==============================] - 0s 3ms/step - loss: 0.1213 - accuracy: 0.9746 - val_loss: 0.1532 - val_accuracy: 0.9656\n",
            "Epoch 25/50\n",
            "31/31 [==============================] - 0s 3ms/step - loss: 0.1177 - accuracy: 0.9742 - val_loss: 0.1635 - val_accuracy: 0.9599\n",
            "Epoch 26/50\n",
            "31/31 [==============================] - 0s 3ms/step - loss: 0.1183 - accuracy: 0.9742 - val_loss: 0.1512 - val_accuracy: 0.9656\n",
            "Epoch 27/50\n",
            "31/31 [==============================] - 0s 3ms/step - loss: 0.1153 - accuracy: 0.9755 - val_loss: 0.1443 - val_accuracy: 0.9656\n",
            "Epoch 28/50\n",
            "31/31 [==============================] - 0s 3ms/step - loss: 0.1125 - accuracy: 0.9746 - val_loss: 0.1467 - val_accuracy: 0.9637\n",
            "Epoch 29/50\n",
            "31/31 [==============================] - 0s 3ms/step - loss: 0.1125 - accuracy: 0.9763 - val_loss: 0.1536 - val_accuracy: 0.9637\n",
            "Epoch 30/50\n",
            "31/31 [==============================] - 0s 3ms/step - loss: 0.1137 - accuracy: 0.9755 - val_loss: 0.1531 - val_accuracy: 0.9637\n",
            "Epoch 31/50\n",
            "31/31 [==============================] - 0s 4ms/step - loss: 0.1088 - accuracy: 0.9763 - val_loss: 0.1471 - val_accuracy: 0.9676\n",
            "Epoch 32/50\n",
            "31/31 [==============================] - 0s 3ms/step - loss: 0.1101 - accuracy: 0.9759 - val_loss: 0.1472 - val_accuracy: 0.9656\n",
            "Epoch 33/50\n",
            "31/31 [==============================] - 0s 3ms/step - loss: 0.1096 - accuracy: 0.9771 - val_loss: 0.1510 - val_accuracy: 0.9637\n",
            "Epoch 34/50\n",
            "31/31 [==============================] - 0s 3ms/step - loss: 0.1082 - accuracy: 0.9759 - val_loss: 0.1450 - val_accuracy: 0.9637\n",
            "Epoch 35/50\n",
            "31/31 [==============================] - 0s 3ms/step - loss: 0.1069 - accuracy: 0.9767 - val_loss: 0.1415 - val_accuracy: 0.9656\n",
            "Epoch 36/50\n",
            "31/31 [==============================] - 0s 4ms/step - loss: 0.1084 - accuracy: 0.9783 - val_loss: 0.1412 - val_accuracy: 0.9637\n",
            "Epoch 37/50\n",
            "31/31 [==============================] - 0s 3ms/step - loss: 0.1048 - accuracy: 0.9755 - val_loss: 0.1403 - val_accuracy: 0.9676\n",
            "Epoch 38/50\n",
            "31/31 [==============================] - 0s 3ms/step - loss: 0.1031 - accuracy: 0.9763 - val_loss: 0.1373 - val_accuracy: 0.9714\n",
            "Epoch 39/50\n",
            "31/31 [==============================] - 0s 3ms/step - loss: 0.1020 - accuracy: 0.9791 - val_loss: 0.1528 - val_accuracy: 0.9599\n",
            "Epoch 40/50\n",
            "31/31 [==============================] - 0s 3ms/step - loss: 0.1046 - accuracy: 0.9783 - val_loss: 0.1357 - val_accuracy: 0.9695\n",
            "Epoch 41/50\n",
            "31/31 [==============================] - 0s 3ms/step - loss: 0.1003 - accuracy: 0.9787 - val_loss: 0.1384 - val_accuracy: 0.9695\n",
            "Epoch 42/50\n",
            "31/31 [==============================] - 0s 3ms/step - loss: 0.1014 - accuracy: 0.9783 - val_loss: 0.1411 - val_accuracy: 0.9656\n",
            "Epoch 43/50\n",
            "31/31 [==============================] - 0s 3ms/step - loss: 0.1006 - accuracy: 0.9775 - val_loss: 0.1346 - val_accuracy: 0.9695\n",
            "Epoch 44/50\n",
            "31/31 [==============================] - 0s 4ms/step - loss: 0.1005 - accuracy: 0.9783 - val_loss: 0.1456 - val_accuracy: 0.9618\n",
            "Epoch 45/50\n",
            "31/31 [==============================] - 0s 4ms/step - loss: 0.0992 - accuracy: 0.9787 - val_loss: 0.1350 - val_accuracy: 0.9676\n",
            "Epoch 46/50\n",
            "31/31 [==============================] - 0s 3ms/step - loss: 0.0979 - accuracy: 0.9791 - val_loss: 0.1366 - val_accuracy: 0.9676\n",
            "Epoch 47/50\n",
            "31/31 [==============================] - 0s 3ms/step - loss: 0.0981 - accuracy: 0.9808 - val_loss: 0.1461 - val_accuracy: 0.9618\n",
            "Epoch 48/50\n",
            "31/31 [==============================] - 0s 3ms/step - loss: 0.0958 - accuracy: 0.9800 - val_loss: 0.1432 - val_accuracy: 0.9618\n",
            "Epoch 49/50\n",
            "31/31 [==============================] - 0s 3ms/step - loss: 0.0967 - accuracy: 0.9783 - val_loss: 0.1301 - val_accuracy: 0.9695\n",
            "Epoch 50/50\n",
            "31/31 [==============================] - 0s 3ms/step - loss: 0.0957 - accuracy: 0.9787 - val_loss: 0.1310 - val_accuracy: 0.9695\n"
          ]
        }
      ],
      "source": [
        "# L2\n",
        "\n",
        "model=Sequential()\n",
        "# L2 regularization applied at the first hidden layer\n",
        "model=Sequential()\n",
        "model.add(Dense(128,input_shape=(df.shape[1]-1,), activation='relu', kernel_regularizer=\"l2\"))\n",
        "model.add(Dense(32, activation='relu',kernel_regularizer=\"l2\"))\n",
        "model.add(Dense(8, activation='relu'))\n",
        "model.add(Dense(1,activation=\"sigmoid\")) \n",
        "\n",
        "\n",
        "model.compile(optimizer='rmsprop', loss='binary_crossentropy', metrics=['accuracy']) #if regression: mterics should be error;\n",
        "history = model.fit(train.drop(\"Class\",axis=1),train[\"Class\"], #drop the output column\n",
        "                    validation_data=(validation.drop(\"Class\",axis=1),validation[\"Class\"]),\n",
        "          batch_size= 80, epochs=50) #batch+-10,epochs +-50\n"
      ]
    },
    {
      "cell_type": "code",
      "execution_count": null,
      "metadata": {
        "id": "GHNq2v08iSXl",
        "colab": {
          "base_uri": "https://localhost:8080/",
          "height": 301
        },
        "outputId": "3ee32f7c-a36c-425f-9646-06ae0ebc2a13"
      },
      "outputs": [
        {
          "output_type": "execute_result",
          "data": {
            "text/plain": [
              "<function matplotlib.pyplot.imshow(X, cmap=None, norm=None, aspect=None, interpolation=None, alpha=None, vmin=None, vmax=None, origin=None, extent=None, shape=<deprecated parameter>, filternorm=1, filterrad=4.0, imlim=<deprecated parameter>, resample=None, url=None, *, data=None, **kwargs)>"
            ]
          },
          "metadata": {},
          "execution_count": 68
        },
        {
          "output_type": "display_data",
          "data": {
            "text/plain": [
              "<Figure size 432x288 with 1 Axes>"
            ],
            "image/png": "[encoded data removed]"
          },
          "metadata": {
            "needs_background": "light"
          }
        }
      ],
      "source": [
        "# same as above, plot loss, val_loss\n",
        "plt.plot(history.history[\"loss\"])\n",
        "plt.plot(history.history[\"val_loss\"])\n",
        "plt.imshow"
      ]
    },
    {
      "cell_type": "code",
      "execution_count": null,
      "metadata": {
        "id": "zgXrNfkciUh9",
        "colab": {
          "base_uri": "https://localhost:8080/",
          "height": 301
        },
        "outputId": "12477431-70b6-4286-dd59-c1b09def807a"
      },
      "outputs": [
        {
          "output_type": "execute_result",
          "data": {
            "text/plain": [
              "<function matplotlib.pyplot.imshow(X, cmap=None, norm=None, aspect=None, interpolation=None, alpha=None, vmin=None, vmax=None, origin=None, extent=None, shape=<deprecated parameter>, filternorm=1, filterrad=4.0, imlim=<deprecated parameter>, resample=None, url=None, *, data=None, **kwargs)>"
            ]
          },
          "metadata": {},
          "execution_count": 69
        },
        {
          "output_type": "display_data",
          "data": {
            "text/plain": [
              "<Figure size 432x288 with 1 Axes>"
            ],
            "image/png": "[encoded data removed]"
          },
          "metadata": {
            "needs_background": "light"
          }
        }
      ],
      "source": [
        "# same as above, plot accuracy, val_accuracy\n",
        "plt.plot(history.history[\"accuracy\"])\n",
        "plt.plot(history.history[\"val_accuracy\"])\n",
        "plt.imshow"
      ]
    },
    {
      "cell_type": "code",
      "execution_count": null,
      "metadata": {
        "id": "4ZFOaJV0iWv2",
        "colab": {
          "base_uri": "https://localhost:8080/"
        },
        "outputId": "97b6dd4b-4ce5-4e9e-ae41-fab336d057e5"
      },
      "outputs": [
        {
          "output_type": "stream",
          "name": "stdout",
          "text": [
            "17/17 [==============================] - 0s 2ms/step\n",
            "0.11792739480733871\n"
          ]
        }
      ],
      "source": [
        "# same as above, calculate  binary_crossentropy\n",
        "from keras.losses import binary_crossentropy\n",
        "real = test.Class.astype(\"int\").values\n",
        "pred = model.predict(test.drop(\"Class\",axis=1)).flatten()\n",
        "print(float(binary_crossentropy(real,pred)))"
      ]
    },
    {
      "cell_type": "code",
      "execution_count": null,
      "metadata": {
        "id": "BvcybHhoiY3m",
        "colab": {
          "base_uri": "https://localhost:8080/"
        },
        "outputId": "0a9ca1f5-5f97-4c3d-b8e4-ebf0c595bb76"
      },
      "outputs": [
        {
          "output_type": "stream",
          "name": "stdout",
          "text": [
            "0.9599236641221374\n"
          ]
        }
      ],
      "source": [
        "# Again, calculate accuracy\n",
        "pred = [1 if i>0.5 else 0 for i in pred]\n",
        "print(sum(pred==real)/len(pred))"
      ]
    },
    {
      "cell_type": "markdown",
      "metadata": {
        "cell_id": "00016-eeb31530-ac08-472f-bbb9-83c9e497f73c",
        "id": "H-MRllZpVTSG",
        "tags": []
      },
      "source": [
        "### Please use L2 + Dropout together"
      ]
    },
    {
      "cell_type": "code",
      "execution_count": null,
      "metadata": {
        "id": "fKvP7l2_E4Bl",
        "colab": {
          "base_uri": "https://localhost:8080/"
        },
        "outputId": "72531576-1989-46ec-e3ca-0f05537fc7cb"
      },
      "outputs": [
        {
          "output_type": "stream",
          "name": "stdout",
          "text": [
            "Epoch 1/50\n",
            "31/31 [==============================] - 2s 21ms/step - loss: 0.7307 - accuracy: 0.9038 - val_loss: 0.5181 - val_accuracy: 0.9542\n",
            "Epoch 2/50\n",
            "31/31 [==============================] - 0s 4ms/step - loss: 0.4498 - accuracy: 0.9529 - val_loss: 0.3811 - val_accuracy: 0.9580\n",
            "Epoch 3/50\n",
            "31/31 [==============================] - 0s 4ms/step - loss: 0.3247 - accuracy: 0.9624 - val_loss: 0.2945 - val_accuracy: 0.9599\n",
            "Epoch 4/50\n",
            "31/31 [==============================] - 0s 4ms/step - loss: 0.2515 - accuracy: 0.9673 - val_loss: 0.2545 - val_accuracy: 0.9599\n",
            "Epoch 5/50\n",
            "31/31 [==============================] - 0s 4ms/step - loss: 0.2066 - accuracy: 0.9705 - val_loss: 0.2132 - val_accuracy: 0.9637\n",
            "Epoch 6/50\n",
            "31/31 [==============================] - 0s 3ms/step - loss: 0.1754 - accuracy: 0.9689 - val_loss: 0.1948 - val_accuracy: 0.9637\n",
            "Epoch 7/50\n",
            "31/31 [==============================] - 0s 4ms/step - loss: 0.1604 - accuracy: 0.9709 - val_loss: 0.1698 - val_accuracy: 0.9656\n",
            "Epoch 8/50\n",
            "31/31 [==============================] - 0s 4ms/step - loss: 0.1492 - accuracy: 0.9701 - val_loss: 0.1713 - val_accuracy: 0.9618\n",
            "Epoch 9/50\n",
            "31/31 [==============================] - 0s 3ms/step - loss: 0.1378 - accuracy: 0.9722 - val_loss: 0.1551 - val_accuracy: 0.9637\n",
            "Epoch 10/50\n",
            "31/31 [==============================] - 0s 4ms/step - loss: 0.1342 - accuracy: 0.9714 - val_loss: 0.1447 - val_accuracy: 0.9695\n",
            "Epoch 11/50\n",
            "31/31 [==============================] - 0s 3ms/step - loss: 0.1265 - accuracy: 0.9709 - val_loss: 0.1447 - val_accuracy: 0.9676\n",
            "Epoch 12/50\n",
            "31/31 [==============================] - 0s 3ms/step - loss: 0.1202 - accuracy: 0.9746 - val_loss: 0.1375 - val_accuracy: 0.9733\n",
            "Epoch 13/50\n",
            "31/31 [==============================] - 0s 3ms/step - loss: 0.1191 - accuracy: 0.9755 - val_loss: 0.1377 - val_accuracy: 0.9656\n",
            "Epoch 14/50\n",
            "31/31 [==============================] - 0s 3ms/step - loss: 0.1130 - accuracy: 0.9746 - val_loss: 0.1351 - val_accuracy: 0.9695\n",
            "Epoch 15/50\n",
            "31/31 [==============================] - 0s 4ms/step - loss: 0.1113 - accuracy: 0.9730 - val_loss: 0.1290 - val_accuracy: 0.9695\n",
            "Epoch 16/50\n",
            "31/31 [==============================] - 0s 3ms/step - loss: 0.1093 - accuracy: 0.9722 - val_loss: 0.1232 - val_accuracy: 0.9733\n",
            "Epoch 17/50\n",
            "31/31 [==============================] - 0s 3ms/step - loss: 0.1071 - accuracy: 0.9750 - val_loss: 0.1409 - val_accuracy: 0.9676\n",
            "Epoch 18/50\n",
            "31/31 [==============================] - 0s 4ms/step - loss: 0.1059 - accuracy: 0.9755 - val_loss: 0.1254 - val_accuracy: 0.9714\n",
            "Epoch 19/50\n",
            "31/31 [==============================] - 0s 4ms/step - loss: 0.1044 - accuracy: 0.9763 - val_loss: 0.1292 - val_accuracy: 0.9676\n",
            "Epoch 20/50\n",
            "31/31 [==============================] - 0s 4ms/step - loss: 0.0991 - accuracy: 0.9755 - val_loss: 0.1355 - val_accuracy: 0.9676\n",
            "Epoch 21/50\n",
            "31/31 [==============================] - 0s 3ms/step - loss: 0.1031 - accuracy: 0.9738 - val_loss: 0.1343 - val_accuracy: 0.9676\n",
            "Epoch 22/50\n",
            "31/31 [==============================] - 0s 4ms/step - loss: 0.1025 - accuracy: 0.9759 - val_loss: 0.1268 - val_accuracy: 0.9676\n",
            "Epoch 23/50\n",
            "31/31 [==============================] - 0s 4ms/step - loss: 0.0986 - accuracy: 0.9750 - val_loss: 0.1344 - val_accuracy: 0.9695\n",
            "Epoch 24/50\n",
            "31/31 [==============================] - 0s 4ms/step - loss: 0.0996 - accuracy: 0.9775 - val_loss: 0.1280 - val_accuracy: 0.9618\n",
            "Epoch 25/50\n",
            "31/31 [==============================] - 0s 3ms/step - loss: 0.0982 - accuracy: 0.9763 - val_loss: 0.1232 - val_accuracy: 0.9676\n",
            "Epoch 26/50\n",
            "31/31 [==============================] - 0s 4ms/step - loss: 0.0997 - accuracy: 0.9779 - val_loss: 0.1198 - val_accuracy: 0.9695\n",
            "Epoch 27/50\n",
            "31/31 [==============================] - 0s 3ms/step - loss: 0.0996 - accuracy: 0.9759 - val_loss: 0.1306 - val_accuracy: 0.9695\n",
            "Epoch 28/50\n",
            "31/31 [==============================] - 0s 3ms/step - loss: 0.0897 - accuracy: 0.9800 - val_loss: 0.1333 - val_accuracy: 0.9676\n",
            "Epoch 29/50\n",
            "31/31 [==============================] - 0s 3ms/step - loss: 0.0990 - accuracy: 0.9779 - val_loss: 0.1298 - val_accuracy: 0.9676\n",
            "Epoch 30/50\n",
            "31/31 [==============================] - 0s 4ms/step - loss: 0.0962 - accuracy: 0.9783 - val_loss: 0.1307 - val_accuracy: 0.9618\n",
            "Epoch 31/50\n",
            "31/31 [==============================] - 0s 3ms/step - loss: 0.0947 - accuracy: 0.9767 - val_loss: 0.1226 - val_accuracy: 0.9695\n",
            "Epoch 32/50\n",
            "31/31 [==============================] - 0s 3ms/step - loss: 0.0863 - accuracy: 0.9808 - val_loss: 0.1201 - val_accuracy: 0.9676\n",
            "Epoch 33/50\n",
            "31/31 [==============================] - 0s 3ms/step - loss: 0.0901 - accuracy: 0.9804 - val_loss: 0.1191 - val_accuracy: 0.9714\n",
            "Epoch 34/50\n",
            "31/31 [==============================] - 0s 3ms/step - loss: 0.0905 - accuracy: 0.9775 - val_loss: 0.1324 - val_accuracy: 0.9656\n",
            "Epoch 35/50\n",
            "31/31 [==============================] - 0s 4ms/step - loss: 0.0910 - accuracy: 0.9787 - val_loss: 0.1215 - val_accuracy: 0.9714\n",
            "Epoch 36/50\n",
            "31/31 [==============================] - 0s 4ms/step - loss: 0.0933 - accuracy: 0.9759 - val_loss: 0.1200 - val_accuracy: 0.9714\n",
            "Epoch 37/50\n",
            "31/31 [==============================] - 0s 4ms/step - loss: 0.0849 - accuracy: 0.9800 - val_loss: 0.1222 - val_accuracy: 0.9714\n",
            "Epoch 38/50\n",
            "31/31 [==============================] - 0s 4ms/step - loss: 0.0867 - accuracy: 0.9787 - val_loss: 0.1226 - val_accuracy: 0.9656\n",
            "Epoch 39/50\n",
            "31/31 [==============================] - 0s 4ms/step - loss: 0.0852 - accuracy: 0.9804 - val_loss: 0.1407 - val_accuracy: 0.9618\n",
            "Epoch 40/50\n",
            "31/31 [==============================] - 0s 3ms/step - loss: 0.0857 - accuracy: 0.9783 - val_loss: 0.1244 - val_accuracy: 0.9714\n",
            "Epoch 41/50\n",
            "31/31 [==============================] - 0s 4ms/step - loss: 0.0802 - accuracy: 0.9820 - val_loss: 0.1251 - val_accuracy: 0.9637\n",
            "Epoch 42/50\n",
            "31/31 [==============================] - 0s 3ms/step - loss: 0.0874 - accuracy: 0.9812 - val_loss: 0.1128 - val_accuracy: 0.9714\n",
            "Epoch 43/50\n",
            "31/31 [==============================] - 0s 3ms/step - loss: 0.0912 - accuracy: 0.9787 - val_loss: 0.1108 - val_accuracy: 0.9714\n",
            "Epoch 44/50\n",
            "31/31 [==============================] - 0s 4ms/step - loss: 0.0841 - accuracy: 0.9812 - val_loss: 0.1330 - val_accuracy: 0.9676\n",
            "Epoch 45/50\n",
            "31/31 [==============================] - 0s 3ms/step - loss: 0.0865 - accuracy: 0.9783 - val_loss: 0.1223 - val_accuracy: 0.9714\n",
            "Epoch 46/50\n",
            "31/31 [==============================] - 0s 4ms/step - loss: 0.0841 - accuracy: 0.9800 - val_loss: 0.1218 - val_accuracy: 0.9695\n",
            "Epoch 47/50\n",
            "31/31 [==============================] - 0s 3ms/step - loss: 0.0875 - accuracy: 0.9767 - val_loss: 0.1114 - val_accuracy: 0.9714\n",
            "Epoch 48/50\n",
            "31/31 [==============================] - 0s 3ms/step - loss: 0.0795 - accuracy: 0.9812 - val_loss: 0.1564 - val_accuracy: 0.9580\n",
            "Epoch 49/50\n",
            "31/31 [==============================] - 0s 4ms/step - loss: 0.0879 - accuracy: 0.9800 - val_loss: 0.1146 - val_accuracy: 0.9714\n",
            "Epoch 50/50\n",
            "31/31 [==============================] - 0s 3ms/step - loss: 0.0867 - accuracy: 0.9775 - val_loss: 0.1155 - val_accuracy: 0.9695\n"
          ]
        }
      ],
      "source": [
        "# Dropout + L2\n",
        "\n",
        "model=Sequential()\n",
        "model.add(Dense(128,input_shape=(df.shape[1]-1,), activation='relu', kernel_regularizer=\"l2\"))\n",
        "model.add(Dropout(0.15))\n",
        "model.add(Dense(32, activation='relu'))\n",
        "model.add(Dropout(0.15))\n",
        "model.add(Dense(8, activation='relu'))\n",
        "model.add(Dense(1,activation=\"sigmoid\")) \n",
        "\n",
        "\n",
        "model.compile(optimizer='rmsprop', loss='binary_crossentropy', metrics=['accuracy']) #if regression: mterics should be error;\n",
        "history = model.fit(train.drop(\"Class\",axis=1),train[\"Class\"], #drop the output column\n",
        "                    validation_data=(validation.drop(\"Class\",axis=1),validation[\"Class\"]),\n",
        "          batch_size= 80, epochs=50) #batch+-10,epochs +-50"
      ]
    },
    {
      "cell_type": "code",
      "execution_count": null,
      "metadata": {
        "id": "4Vm-M3IdiceC",
        "colab": {
          "base_uri": "https://localhost:8080/",
          "height": 301
        },
        "outputId": "a6ff1f59-97f0-40b6-c3e9-3b27f92c5f94"
      },
      "outputs": [
        {
          "output_type": "execute_result",
          "data": {
            "text/plain": [
              "<function matplotlib.pyplot.imshow(X, cmap=None, norm=None, aspect=None, interpolation=None, alpha=None, vmin=None, vmax=None, origin=None, extent=None, shape=<deprecated parameter>, filternorm=1, filterrad=4.0, imlim=<deprecated parameter>, resample=None, url=None, *, data=None, **kwargs)>"
            ]
          },
          "metadata": {},
          "execution_count": 73
        },
        {
          "output_type": "display_data",
          "data": {
            "text/plain": [
              "<Figure size 432x288 with 1 Axes>"
            ],
            "image/png": "[encoded data removed]"
          },
          "metadata": {
            "needs_background": "light"
          }
        }
      ],
      "source": [
        "plt.plot(history.history[\"loss\"])\n",
        "plt.plot(history.history[\"val_loss\"])\n",
        "plt.imshow"
      ]
    },
    {
      "cell_type": "code",
      "execution_count": null,
      "metadata": {
        "id": "mUHO3GDVieqj",
        "colab": {
          "base_uri": "https://localhost:8080/",
          "height": 301
        },
        "outputId": "6603cfa9-abaf-4f24-eb20-0a78ff3b4f80"
      },
      "outputs": [
        {
          "output_type": "execute_result",
          "data": {
            "text/plain": [
              "<function matplotlib.pyplot.imshow(X, cmap=None, norm=None, aspect=None, interpolation=None, alpha=None, vmin=None, vmax=None, origin=None, extent=None, shape=<deprecated parameter>, filternorm=1, filterrad=4.0, imlim=<deprecated parameter>, resample=None, url=None, *, data=None, **kwargs)>"
            ]
          },
          "metadata": {},
          "execution_count": 74
        },
        {
          "output_type": "display_data",
          "data": {
            "text/plain": [
              "<Figure size 432x288 with 1 Axes>"
            ],
            "image/png": "[encoded data removed]"
          },
          "metadata": {
            "needs_background": "light"
          }
        }
      ],
      "source": [
        "plt.plot(history.history[\"accuracy\"])\n",
        "plt.plot(history.history[\"val_accuracy\"])\n",
        "plt.imshow"
      ]
    },
    {
      "cell_type": "code",
      "execution_count": null,
      "metadata": {
        "id": "WcNpuo4-ig9M",
        "colab": {
          "base_uri": "https://localhost:8080/"
        },
        "outputId": "ca4cfa97-5007-4c33-e59b-8090453a663b"
      },
      "outputs": [
        {
          "output_type": "stream",
          "name": "stdout",
          "text": [
            "17/17 [==============================] - 0s 1ms/step\n",
            "0.13609637320041656\n"
          ]
        }
      ],
      "source": [
        "from keras.losses import binary_crossentropy\n",
        "real = test.Class.astype(\"int\").values\n",
        "pred = model.predict(test.drop(\"Class\",axis=1)).flatten()\n",
        "print(float(binary_crossentropy(real,pred)))"
      ]
    },
    {
      "cell_type": "code",
      "execution_count": null,
      "metadata": {
        "id": "1nxVw63IijKR",
        "colab": {
          "base_uri": "https://localhost:8080/"
        },
        "outputId": "5bf71e8f-202d-4884-9b07-2f51edbc211f"
      },
      "outputs": [
        {
          "output_type": "stream",
          "name": "stdout",
          "text": [
            "0.9618320610687023\n"
          ]
        }
      ],
      "source": [
        "# Again, calculate accuracy\n",
        "pred = [1 if i>0.5 else 0 for i in pred]\n",
        "print(sum(pred==real)/len(pred))"
      ]
    }
  ],
  "metadata": {
    "accelerator": "GPU",
    "colab": {
      "provenance": []
    },
    "deepnote_execution_queue": [],
    "deepnote_notebook_id": "fc30075b-d035-4a92-901d-48b19f00b1a6",
    "kernelspec": {
      "display_name": "Python 3",
      "language": "python",
      "name": "python3"
    },
    "language_info": {
      "codemirror_mode": {
        "name": "ipython",
        "version": 3
      },
      "file_extension": ".py",
      "mimetype": "text/x-python",
      "name": "python",
      "nbconvert_exporter": "python",
      "pygments_lexer": "ipython3",
      "version": "3.8.3"
    }
  },
  "nbformat": 4,
  "nbformat_minor": 0
}
