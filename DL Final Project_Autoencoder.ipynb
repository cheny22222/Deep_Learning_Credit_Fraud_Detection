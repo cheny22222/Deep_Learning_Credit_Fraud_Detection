{
  "nbformat": 4,
  "nbformat_minor": 0,
  "metadata": {
    "kernelspec": {
      "display_name": "Python 3",
      "language": "python",
      "name": "python3"
    },
    "colab": {
      "provenance": []
    },
    "accelerator": "GPU"
  },
  "cells": [
    {
      "cell_type": "code",
      "metadata": {
        "id": "dinleMPWME2i"
      },
      "source": [
        "# First things first: Please select a GPU backend."
      ],
      "execution_count": 3,
      "outputs": []
    },
    {
      "cell_type": "code",
      "metadata": {
        "colab": {
          "base_uri": "https://localhost:8080/"
        },
        "id": "EllQBSPAJgU0",
        "outputId": "f8f391c5-75fa-44ed-96ef-79441d78e367"
      },
      "source": [
        "from google.colab import drive\n",
        "drive.mount('/content/drive/')\n"
      ],
      "execution_count": 4,
      "outputs": [
        {
          "output_type": "stream",
          "name": "stdout",
          "text": [
            "Mounted at /content/drive/\n"
          ]
        }
      ]
    },
    {
      "cell_type": "markdown",
      "metadata": {
        "id": "5U7XF8XBMMFq"
      },
      "source": [
        "---\n",
        "Click the folder button on the left, and Colab will display a file window. (Probably you might have to wait for at most 10 seconds, before the `drive` folder shows up.) Find the zip file `psychological-dataset.zip` under the drive folder."
      ]
    },
    {
      "cell_type": "code",
      "metadata": {
        "id": "TDfbssgEJidC"
      },
      "source": [
        "# Unzip\n",
        "!unzip -q \"/content/drive/MyDrive/Deep Learning/final project/dataset.zip\" -d /content/\n"
      ],
      "execution_count": 5,
      "outputs": []
    },
    {
      "cell_type": "code",
      "source": [
        "import pandas as pd\n",
        "\n",
        "df_init=pd.read_csv(\"creditcard.csv\")\n",
        "\n",
        "df_init.Class.value_counts().rename(index = {0:'Not Fraud', 1:'Fraud'})\n"
      ],
      "metadata": {
        "colab": {
          "base_uri": "https://localhost:8080/"
        },
        "id": "4hmFlQ7a3q98",
        "outputId": "fbd139aa-a6c4-4a16-a2e2-a1fbe4fff1e9"
      },
      "execution_count": 6,
      "outputs": [
        {
          "output_type": "execute_result",
          "data": {
            "text/plain": [
              "Not Fraud    284315\n",
              "Fraud           492\n",
              "Name: Class, dtype: int64"
            ]
          },
          "metadata": {},
          "execution_count": 6
        }
      ]
    },
    {
      "cell_type": "code",
      "source": [
        "#------------preprocessing--------------\n",
        "\n",
        "from sklearn.preprocessing import StandardScaler\n",
        "\n",
        "#Scale Time and Amount as other features:\n",
        "df_init['Time'] = StandardScaler().fit_transform(df_init['Time'].values.reshape(-1, 1))\n",
        "df_init['Amount'] = StandardScaler().fit_transform(df_init['Amount'].values.reshape(-1, 1))\n",
        "\n",
        "#Split the dataset:\n",
        "x = df_init.drop(['Class'], axis = 1)\n",
        "y = df_init['Class']\n",
        "\n",
        "#Normalize the data to 0-1:\n",
        "for col in x.columns: # Min-max scaling => (x - min(x)) / max(x) - min(x) n \n",
        "    x.loc[:,col]=(x.loc[:,col]-x.loc[:,col].min())/(x.loc[:,col].max()-x.loc[:,col].min())\n",
        "\n",
        "\n"
      ],
      "metadata": {
        "id": "3P_V7LFTqT-U"
      },
      "execution_count": 7,
      "outputs": []
    },
    {
      "cell_type": "code",
      "source": [
        "x"
      ],
      "metadata": {
        "colab": {
          "base_uri": "https://localhost:8080/",
          "height": 488
        },
        "id": "hZ1kcOzADvjd",
        "outputId": "87f6454e-718f-4efb-bc26-30c5a09d2b03"
      },
      "execution_count": 8,
      "outputs": [
        {
          "output_type": "execute_result",
          "data": {
            "text/plain": [
              "            Time        V1        V2        V3        V4        V5        V6  \\\n",
              "0       0.000000  0.935192  0.766490  0.881365  0.313023  0.763439  0.267669   \n",
              "1       0.000000  0.978542  0.770067  0.840298  0.271796  0.766120  0.262192   \n",
              "2       0.000006  0.935217  0.753118  0.868141  0.268766  0.762329  0.281122   \n",
              "3       0.000006  0.941878  0.765304  0.868484  0.213661  0.765647  0.275559   \n",
              "4       0.000012  0.938617  0.776520  0.864251  0.269796  0.762975  0.263984   \n",
              "...          ...       ...       ...       ...       ...       ...       ...   \n",
              "284802  0.999965  0.756448  0.873531  0.666991  0.160317  0.729603  0.236810   \n",
              "284803  0.999971  0.945845  0.766677  0.872678  0.219189  0.771561  0.273661   \n",
              "284804  0.999977  0.990905  0.764080  0.781102  0.227202  0.783425  0.293496   \n",
              "284805  0.999977  0.954209  0.772856  0.849587  0.282508  0.763172  0.269291   \n",
              "284806  1.000000  0.949232  0.765256  0.849601  0.229488  0.765632  0.256488   \n",
              "\n",
              "              V7        V8        V9  ...       V20       V21       V22  \\\n",
              "0       0.266815  0.786444  0.475312  ...  0.582942  0.561184  0.522992   \n",
              "1       0.264875  0.786298  0.453981  ...  0.579530  0.557840  0.480237   \n",
              "2       0.270177  0.788042  0.410603  ...  0.585855  0.565477  0.546030   \n",
              "3       0.266803  0.789434  0.414999  ...  0.578050  0.559734  0.510277   \n",
              "4       0.268968  0.782484  0.490950  ...  0.584615  0.561327  0.547271   \n",
              "...          ...       ...       ...  ...       ...       ...       ...   \n",
              "284802  0.235393  0.863749  0.528729  ...  0.595979  0.564920  0.515249   \n",
              "284803  0.265504  0.788548  0.482925  ...  0.580900  0.564933  0.553153   \n",
              "284804  0.263547  0.792985  0.477677  ...  0.580280  0.565220  0.537005   \n",
              "284805  0.261175  0.792671  0.476287  ...  0.581622  0.565755  0.547353   \n",
              "284806  0.274963  0.780938  0.479528  ...  0.584343  0.565688  0.540031   \n",
              "\n",
              "             V23       V24       V25       V26       V27       V28    Amount  \n",
              "0       0.663793  0.391253  0.585122  0.394557  0.418976  0.312697  0.005824  \n",
              "1       0.666938  0.336440  0.587290  0.446013  0.416345  0.313423  0.000105  \n",
              "2       0.678939  0.289354  0.559515  0.402727  0.415489  0.311911  0.014739  \n",
              "3       0.662607  0.223826  0.614245  0.389197  0.417669  0.314371  0.004807  \n",
              "4       0.663392  0.401270  0.566343  0.507497  0.420561  0.317490  0.002724  \n",
              "...          ...       ...       ...       ...       ...       ...       ...  \n",
              "284802  0.680500  0.313600  0.658558  0.466291  0.433929  0.329840  0.000030  \n",
              "284803  0.665619  0.245298  0.543855  0.360884  0.417775  0.312038  0.000965  \n",
              "284804  0.664877  0.468492  0.592824  0.411177  0.416593  0.312585  0.002642  \n",
              "284805  0.663008  0.398836  0.545958  0.514746  0.418520  0.315245  0.000389  \n",
              "284806  0.671029  0.383420  0.551319  0.291786  0.416466  0.313401  0.008446  \n",
              "\n",
              "[284807 rows x 30 columns]"
            ],
            "text/html": [
              "\n",
              "  <div id=\"df-b248e0c2-69c8-42b6-9ce4-63085a3b2f49\">\n",
              "    <div class=\"colab-df-container\">\n",
              "      <div>\n",
              "<style scoped>\n",
              "    .dataframe tbody tr th:only-of-type {\n",
              "        vertical-align: middle;\n",
              "    }\n",
              "\n",
              "    .dataframe tbody tr th {\n",
              "        vertical-align: top;\n",
              "    }\n",
              "\n",
              "    .dataframe thead th {\n",
              "        text-align: right;\n",
              "    }\n",
              "</style>\n",
              "<table border=\"1\" class=\"dataframe\">\n",
              "  <thead>\n",
              "    <tr style=\"text-align: right;\">\n",
              "      <th></th>\n",
              "      <th>Time</th>\n",
              "      <th>V1</th>\n",
              "      <th>V2</th>\n",
              "      <th>V3</th>\n",
              "      <th>V4</th>\n",
              "      <th>V5</th>\n",
              "      <th>V6</th>\n",
              "      <th>V7</th>\n",
              "      <th>V8</th>\n",
              "      <th>V9</th>\n",
              "      <th>...</th>\n",
              "      <th>V20</th>\n",
              "      <th>V21</th>\n",
              "      <th>V22</th>\n",
              "      <th>V23</th>\n",
              "      <th>V24</th>\n",
              "      <th>V25</th>\n",
              "      <th>V26</th>\n",
              "      <th>V27</th>\n",
              "      <th>V28</th>\n",
              "      <th>Amount</th>\n",
              "    </tr>\n",
              "  </thead>\n",
              "  <tbody>\n",
              "    <tr>\n",
              "      <th>0</th>\n",
              "      <td>0.000000</td>\n",
              "      <td>0.935192</td>\n",
              "      <td>0.766490</td>\n",
              "      <td>0.881365</td>\n",
              "      <td>0.313023</td>\n",
              "      <td>0.763439</td>\n",
              "      <td>0.267669</td>\n",
              "      <td>0.266815</td>\n",
              "      <td>0.786444</td>\n",
              "      <td>0.475312</td>\n",
              "      <td>...</td>\n",
              "      <td>0.582942</td>\n",
              "      <td>0.561184</td>\n",
              "      <td>0.522992</td>\n",
              "      <td>0.663793</td>\n",
              "      <td>0.391253</td>\n",
              "      <td>0.585122</td>\n",
              "      <td>0.394557</td>\n",
              "      <td>0.418976</td>\n",
              "      <td>0.312697</td>\n",
              "      <td>0.005824</td>\n",
              "    </tr>\n",
              "    <tr>\n",
              "      <th>1</th>\n",
              "      <td>0.000000</td>\n",
              "      <td>0.978542</td>\n",
              "      <td>0.770067</td>\n",
              "      <td>0.840298</td>\n",
              "      <td>0.271796</td>\n",
              "      <td>0.766120</td>\n",
              "      <td>0.262192</td>\n",
              "      <td>0.264875</td>\n",
              "      <td>0.786298</td>\n",
              "      <td>0.453981</td>\n",
              "      <td>...</td>\n",
              "      <td>0.579530</td>\n",
              "      <td>0.557840</td>\n",
              "      <td>0.480237</td>\n",
              "      <td>0.666938</td>\n",
              "      <td>0.336440</td>\n",
              "      <td>0.587290</td>\n",
              "      <td>0.446013</td>\n",
              "      <td>0.416345</td>\n",
              "      <td>0.313423</td>\n",
              "      <td>0.000105</td>\n",
              "    </tr>\n",
              "    <tr>\n",
              "      <th>2</th>\n",
              "      <td>0.000006</td>\n",
              "      <td>0.935217</td>\n",
              "      <td>0.753118</td>\n",
              "      <td>0.868141</td>\n",
              "      <td>0.268766</td>\n",
              "      <td>0.762329</td>\n",
              "      <td>0.281122</td>\n",
              "      <td>0.270177</td>\n",
              "      <td>0.788042</td>\n",
              "      <td>0.410603</td>\n",
              "      <td>...</td>\n",
              "      <td>0.585855</td>\n",
              "      <td>0.565477</td>\n",
              "      <td>0.546030</td>\n",
              "      <td>0.678939</td>\n",
              "      <td>0.289354</td>\n",
              "      <td>0.559515</td>\n",
              "      <td>0.402727</td>\n",
              "      <td>0.415489</td>\n",
              "      <td>0.311911</td>\n",
              "      <td>0.014739</td>\n",
              "    </tr>\n",
              "    <tr>\n",
              "      <th>3</th>\n",
              "      <td>0.000006</td>\n",
              "      <td>0.941878</td>\n",
              "      <td>0.765304</td>\n",
              "      <td>0.868484</td>\n",
              "      <td>0.213661</td>\n",
              "      <td>0.765647</td>\n",
              "      <td>0.275559</td>\n",
              "      <td>0.266803</td>\n",
              "      <td>0.789434</td>\n",
              "      <td>0.414999</td>\n",
              "      <td>...</td>\n",
              "      <td>0.578050</td>\n",
              "      <td>0.559734</td>\n",
              "      <td>0.510277</td>\n",
              "      <td>0.662607</td>\n",
              "      <td>0.223826</td>\n",
              "      <td>0.614245</td>\n",
              "      <td>0.389197</td>\n",
              "      <td>0.417669</td>\n",
              "      <td>0.314371</td>\n",
              "      <td>0.004807</td>\n",
              "    </tr>\n",
              "    <tr>\n",
              "      <th>4</th>\n",
              "      <td>0.000012</td>\n",
              "      <td>0.938617</td>\n",
              "      <td>0.776520</td>\n",
              "      <td>0.864251</td>\n",
              "      <td>0.269796</td>\n",
              "      <td>0.762975</td>\n",
              "      <td>0.263984</td>\n",
              "      <td>0.268968</td>\n",
              "      <td>0.782484</td>\n",
              "      <td>0.490950</td>\n",
              "      <td>...</td>\n",
              "      <td>0.584615</td>\n",
              "      <td>0.561327</td>\n",
              "      <td>0.547271</td>\n",
              "      <td>0.663392</td>\n",
              "      <td>0.401270</td>\n",
              "      <td>0.566343</td>\n",
              "      <td>0.507497</td>\n",
              "      <td>0.420561</td>\n",
              "      <td>0.317490</td>\n",
              "      <td>0.002724</td>\n",
              "    </tr>\n",
              "    <tr>\n",
              "      <th>...</th>\n",
              "      <td>...</td>\n",
              "      <td>...</td>\n",
              "      <td>...</td>\n",
              "      <td>...</td>\n",
              "      <td>...</td>\n",
              "      <td>...</td>\n",
              "      <td>...</td>\n",
              "      <td>...</td>\n",
              "      <td>...</td>\n",
              "      <td>...</td>\n",
              "      <td>...</td>\n",
              "      <td>...</td>\n",
              "      <td>...</td>\n",
              "      <td>...</td>\n",
              "      <td>...</td>\n",
              "      <td>...</td>\n",
              "      <td>...</td>\n",
              "      <td>...</td>\n",
              "      <td>...</td>\n",
              "      <td>...</td>\n",
              "      <td>...</td>\n",
              "    </tr>\n",
              "    <tr>\n",
              "      <th>284802</th>\n",
              "      <td>0.999965</td>\n",
              "      <td>0.756448</td>\n",
              "      <td>0.873531</td>\n",
              "      <td>0.666991</td>\n",
              "      <td>0.160317</td>\n",
              "      <td>0.729603</td>\n",
              "      <td>0.236810</td>\n",
              "      <td>0.235393</td>\n",
              "      <td>0.863749</td>\n",
              "      <td>0.528729</td>\n",
              "      <td>...</td>\n",
              "      <td>0.595979</td>\n",
              "      <td>0.564920</td>\n",
              "      <td>0.515249</td>\n",
              "      <td>0.680500</td>\n",
              "      <td>0.313600</td>\n",
              "      <td>0.658558</td>\n",
              "      <td>0.466291</td>\n",
              "      <td>0.433929</td>\n",
              "      <td>0.329840</td>\n",
              "      <td>0.000030</td>\n",
              "    </tr>\n",
              "    <tr>\n",
              "      <th>284803</th>\n",
              "      <td>0.999971</td>\n",
              "      <td>0.945845</td>\n",
              "      <td>0.766677</td>\n",
              "      <td>0.872678</td>\n",
              "      <td>0.219189</td>\n",
              "      <td>0.771561</td>\n",
              "      <td>0.273661</td>\n",
              "      <td>0.265504</td>\n",
              "      <td>0.788548</td>\n",
              "      <td>0.482925</td>\n",
              "      <td>...</td>\n",
              "      <td>0.580900</td>\n",
              "      <td>0.564933</td>\n",
              "      <td>0.553153</td>\n",
              "      <td>0.665619</td>\n",
              "      <td>0.245298</td>\n",
              "      <td>0.543855</td>\n",
              "      <td>0.360884</td>\n",
              "      <td>0.417775</td>\n",
              "      <td>0.312038</td>\n",
              "      <td>0.000965</td>\n",
              "    </tr>\n",
              "    <tr>\n",
              "      <th>284804</th>\n",
              "      <td>0.999977</td>\n",
              "      <td>0.990905</td>\n",
              "      <td>0.764080</td>\n",
              "      <td>0.781102</td>\n",
              "      <td>0.227202</td>\n",
              "      <td>0.783425</td>\n",
              "      <td>0.293496</td>\n",
              "      <td>0.263547</td>\n",
              "      <td>0.792985</td>\n",
              "      <td>0.477677</td>\n",
              "      <td>...</td>\n",
              "      <td>0.580280</td>\n",
              "      <td>0.565220</td>\n",
              "      <td>0.537005</td>\n",
              "      <td>0.664877</td>\n",
              "      <td>0.468492</td>\n",
              "      <td>0.592824</td>\n",
              "      <td>0.411177</td>\n",
              "      <td>0.416593</td>\n",
              "      <td>0.312585</td>\n",
              "      <td>0.002642</td>\n",
              "    </tr>\n",
              "    <tr>\n",
              "      <th>284805</th>\n",
              "      <td>0.999977</td>\n",
              "      <td>0.954209</td>\n",
              "      <td>0.772856</td>\n",
              "      <td>0.849587</td>\n",
              "      <td>0.282508</td>\n",
              "      <td>0.763172</td>\n",
              "      <td>0.269291</td>\n",
              "      <td>0.261175</td>\n",
              "      <td>0.792671</td>\n",
              "      <td>0.476287</td>\n",
              "      <td>...</td>\n",
              "      <td>0.581622</td>\n",
              "      <td>0.565755</td>\n",
              "      <td>0.547353</td>\n",
              "      <td>0.663008</td>\n",
              "      <td>0.398836</td>\n",
              "      <td>0.545958</td>\n",
              "      <td>0.514746</td>\n",
              "      <td>0.418520</td>\n",
              "      <td>0.315245</td>\n",
              "      <td>0.000389</td>\n",
              "    </tr>\n",
              "    <tr>\n",
              "      <th>284806</th>\n",
              "      <td>1.000000</td>\n",
              "      <td>0.949232</td>\n",
              "      <td>0.765256</td>\n",
              "      <td>0.849601</td>\n",
              "      <td>0.229488</td>\n",
              "      <td>0.765632</td>\n",
              "      <td>0.256488</td>\n",
              "      <td>0.274963</td>\n",
              "      <td>0.780938</td>\n",
              "      <td>0.479528</td>\n",
              "      <td>...</td>\n",
              "      <td>0.584343</td>\n",
              "      <td>0.565688</td>\n",
              "      <td>0.540031</td>\n",
              "      <td>0.671029</td>\n",
              "      <td>0.383420</td>\n",
              "      <td>0.551319</td>\n",
              "      <td>0.291786</td>\n",
              "      <td>0.416466</td>\n",
              "      <td>0.313401</td>\n",
              "      <td>0.008446</td>\n",
              "    </tr>\n",
              "  </tbody>\n",
              "</table>\n",
              "<p>284807 rows × 30 columns</p>\n",
              "</div>\n",
              "      <button class=\"colab-df-convert\" onclick=\"convertToInteractive('df-b248e0c2-69c8-42b6-9ce4-63085a3b2f49')\"\n",
              "              title=\"Convert this dataframe to an interactive table.\"\n",
              "              style=\"display:none;\">\n",
              "        \n",
              "  <svg xmlns=\"http://www.w3.org/2000/svg\" height=\"24px\"viewBox=\"0 0 24 24\"\n",
              "       width=\"24px\">\n",
              "    <path d=\"M0 0h24v24H0V0z\" fill=\"none\"/>\n",
              "    <path d=\"M18.56 5.44l.94 2.06.94-2.06 2.06-.94-2.06-.94-.94-2.06-.94 2.06-2.06.94zm-11 1L8.5 8.5l.94-2.06 2.06-.94-2.06-.94L8.5 2.5l-.94 2.06-2.06.94zm10 10l.94 2.06.94-2.06 2.06-.94-2.06-.94-.94-2.06-.94 2.06-2.06.94z\"/><path d=\"M17.41 7.96l-1.37-1.37c-.4-.4-.92-.59-1.43-.59-.52 0-1.04.2-1.43.59L10.3 9.45l-7.72 7.72c-.78.78-.78 2.05 0 2.83L4 21.41c.39.39.9.59 1.41.59.51 0 1.02-.2 1.41-.59l7.78-7.78 2.81-2.81c.8-.78.8-2.07 0-2.86zM5.41 20L4 18.59l7.72-7.72 1.47 1.35L5.41 20z\"/>\n",
              "  </svg>\n",
              "      </button>\n",
              "      \n",
              "  <style>\n",
              "    .colab-df-container {\n",
              "      display:flex;\n",
              "      flex-wrap:wrap;\n",
              "      gap: 12px;\n",
              "    }\n",
              "\n",
              "    .colab-df-convert {\n",
              "      background-color: #E8F0FE;\n",
              "      border: none;\n",
              "      border-radius: 50%;\n",
              "      cursor: pointer;\n",
              "      display: none;\n",
              "      fill: #1967D2;\n",
              "      height: 32px;\n",
              "      padding: 0 0 0 0;\n",
              "      width: 32px;\n",
              "    }\n",
              "\n",
              "    .colab-df-convert:hover {\n",
              "      background-color: #E2EBFA;\n",
              "      box-shadow: 0px 1px 2px rgba(60, 64, 67, 0.3), 0px 1px 3px 1px rgba(60, 64, 67, 0.15);\n",
              "      fill: #174EA6;\n",
              "    }\n",
              "\n",
              "    [theme=dark] .colab-df-convert {\n",
              "      background-color: #3B4455;\n",
              "      fill: #D2E3FC;\n",
              "    }\n",
              "\n",
              "    [theme=dark] .colab-df-convert:hover {\n",
              "      background-color: #434B5C;\n",
              "      box-shadow: 0px 1px 3px 1px rgba(0, 0, 0, 0.15);\n",
              "      filter: drop-shadow(0px 1px 2px rgba(0, 0, 0, 0.3));\n",
              "      fill: #FFFFFF;\n",
              "    }\n",
              "  </style>\n",
              "\n",
              "      <script>\n",
              "        const buttonEl =\n",
              "          document.querySelector('#df-b248e0c2-69c8-42b6-9ce4-63085a3b2f49 button.colab-df-convert');\n",
              "        buttonEl.style.display =\n",
              "          google.colab.kernel.accessAllowed ? 'block' : 'none';\n",
              "\n",
              "        async function convertToInteractive(key) {\n",
              "          const element = document.querySelector('#df-b248e0c2-69c8-42b6-9ce4-63085a3b2f49');\n",
              "          const dataTable =\n",
              "            await google.colab.kernel.invokeFunction('convertToInteractive',\n",
              "                                                     [key], {});\n",
              "          if (!dataTable) return;\n",
              "\n",
              "          const docLinkHtml = 'Like what you see? Visit the ' +\n",
              "            '<a target=\"_blank\" href=https://colab.research.google.com/notebooks/data_table.ipynb>data table notebook</a>'\n",
              "            + ' to learn more about interactive tables.';\n",
              "          element.innerHTML = '';\n",
              "          dataTable['output_type'] = 'display_data';\n",
              "          await google.colab.output.renderOutput(dataTable, element);\n",
              "          const docLink = document.createElement('div');\n",
              "          docLink.innerHTML = docLinkHtml;\n",
              "          element.appendChild(docLink);\n",
              "        }\n",
              "      </script>\n",
              "    </div>\n",
              "  </div>\n",
              "  "
            ]
          },
          "metadata": {},
          "execution_count": 8
        }
      ]
    },
    {
      "cell_type": "code",
      "source": [
        "#Train Test Split + SMOKE: oversample the minority case\n",
        "from imblearn.over_sampling import SMOTE\n",
        "from sklearn.model_selection import train_test_split\n",
        "\n",
        "x_train, x_test, y_train, y_test =train_test_split(x,y,test_size=0.3, random_state=2)\n",
        "\n",
        "print(x_train.shape, x_test.shape, y_train.shape, y_test.shape)"
      ],
      "metadata": {
        "id": "PuC3aCLcMKJk",
        "colab": {
          "base_uri": "https://localhost:8080/"
        },
        "outputId": "c6c4feab-a92b-4f11-e418-6857bb766c8e"
      },
      "execution_count": 9,
      "outputs": [
        {
          "output_type": "stream",
          "name": "stdout",
          "text": [
            "(199364, 30) (85443, 30) (199364,) (85443,)\n"
          ]
        }
      ]
    },
    {
      "cell_type": "code",
      "source": [
        "#SMOTE\n",
        "\n",
        "smt = SMOTE(random_state=2)\n",
        "x_train_res, y_train_res = smt.fit_resample(x_train, y_train.ravel())\n",
        "\n",
        "print('After OverSampling, the shape of train_X: {}'.format(x_train_res.shape))\n",
        "print('After OverSampling, the shape of train_y: {} \\n'.format(y_train_res.shape))\n",
        "\n",
        "print(\"After OverSampling, counts of label '1': {}\".format(sum(y_train_res==1)))\n",
        "print(\"After OverSampling, counts of label '0': {}\".format(sum(y_train_res==0)))\n",
        "\n",
        "\n"
      ],
      "metadata": {
        "id": "L9vbgu-X-aU0",
        "colab": {
          "base_uri": "https://localhost:8080/"
        },
        "outputId": "6df03848-8fd1-42b3-8fd0-d0ba8603b5e2"
      },
      "execution_count": 10,
      "outputs": [
        {
          "output_type": "stream",
          "name": "stdout",
          "text": [
            "After OverSampling, the shape of train_X: (398012, 30)\n",
            "After OverSampling, the shape of train_y: (398012,) \n",
            "\n",
            "After OverSampling, counts of label '1': 199006\n",
            "After OverSampling, counts of label '0': 199006\n"
          ]
        }
      ]
    },
    {
      "cell_type": "markdown",
      "source": [
        "Let's start to build our model!"
      ],
      "metadata": {
        "id": "oLD2P1DEMwcQ"
      }
    },
    {
      "cell_type": "code",
      "metadata": {
        "id": "43yAyPVBF31Y"
      },
      "source": [
        "#Model Evaluation\n",
        "\n",
        "def evaluatemodel(model,model_hist,X_test,y_test):\n",
        "    print('Training loss:', model_hist.history['loss'][-1])\n",
        "    print('Training accuracy:', model_hist.history['acc'][-1], '\\n')\n",
        "    score = model.evaluate(X_test, y_test, verbose=1)\n",
        "    print('Test loss:', score[0])\n",
        "    print('Test accuracy:', score[1])\n"
      ],
      "execution_count": 11,
      "outputs": []
    },
    {
      "cell_type": "code",
      "source": [
        "#Model result visualization\n",
        "\n",
        "import matplotlib.pyplot as plt\n",
        "\n",
        "def plotresults(model_hist):\n",
        "  \n",
        "    acc = model_hist.history['acc']\n",
        "    val_acc = model_hist.history['val_acc']\n",
        "    loss = model_hist.history['loss']\n",
        "    val_loss = model_hist.history['val_loss']\n",
        "\n",
        "    epochs = range(1, len(acc) + 1)\n",
        "\n",
        "    ##Accuracy\n",
        "    # \"bo\" is for \"blue dot\"\n",
        "    plt.plot(epochs, acc, label='Training accuracy')\n",
        "    # b is for \"solid blue line\"\n",
        "    plt.plot(epochs, val_acc, label='test accuracy')\n",
        "    plt.title('Training and test accuracy')\n",
        "    plt.xlabel('Epochs')\n",
        "    plt.ylabel('Accuracy')\n",
        "    plt.legend()\n",
        "    plt.show()\n",
        "\n",
        "    ##Loss\n",
        "    plt.plot(epochs, loss, linewidth=2, label='Train loss')\n",
        "    plt.plot(epochs, val_loss, linewidth=2, label='Test loss')\n",
        "    plt.title('Model loss')\n",
        "    plt.xlabel('Epochs')\n",
        "    plt.ylabel('Loss')\n",
        "    plt.legend()\n",
        "    plt.show()\n",
        "  \n"
      ],
      "metadata": {
        "id": "uQ1fcSx7gEZ6"
      },
      "execution_count": 12,
      "outputs": []
    },
    {
      "cell_type": "code",
      "source": [
        "import keras\n",
        "from keras import layers\n",
        "from keras.layers import Input, Conv2D, MaxPooling2D, UpSampling2D, Conv2DTranspose, Dense, Activation, Lambda, Reshape, Flatten,Dropout,BatchNormalization\n",
        "from keras.models import Model, Sequential \n",
        "from keras import backend as K\n",
        "from keras import regularizers\n",
        "from keras.callbacks import EarlyStopping\n",
        "import numpy as np\n",
        "import matplotlib.pyplot as plt\n",
        "import tensorflow as tf\n",
        "\n",
        "%matplotlib inline\n",
        "\n"
      ],
      "metadata": {
        "id": "1TyMeewpKePE"
      },
      "execution_count": 13,
      "outputs": []
    },
    {
      "cell_type": "code",
      "source": [
        "#if you did not install tensorflow, please use the below code. \n",
        "#!pip install tensorflow"
      ],
      "metadata": {
        "id": "OifJSzq39c2f"
      },
      "execution_count": 14,
      "outputs": []
    },
    {
      "cell_type": "code",
      "source": [
        "epoch_no = 30\n",
        "batch_size = 80\n",
        "input_dim = x_train_res.shape[1]\n",
        "learning_rate = 1e-7"
      ],
      "metadata": {
        "id": "x9EBl-XOF7qH"
      },
      "execution_count": 20,
      "outputs": []
    },
    {
      "cell_type": "code",
      "metadata": {
        "colab": {
          "base_uri": "https://localhost:8080/"
        },
        "id": "a4c0w_96offR",
        "outputId": "064d4219-6abb-4c92-fe6e-b0cd6640096a"
      },
      "source": [
        "\n",
        "input = Input(shape=(input_dim,))\n",
        "\n",
        "encoded = Dense(input_dim, activation= 'relu')(input)\n",
        "encoded = Dense(128, activation='relu')(encoded)\n",
        "encoded = Dense(64, activation='relu')(encoded)\n",
        "encoded = Dense(32, activation = 'relu')(encoded)\n",
        "encoded = Dense(16, activation = 'relu')(encoded)\n",
        "\n",
        "decoded = Dense(16, activation = 'relu')(encoded)\n",
        "decoded = Dense(32, activation='relu')(encoded)\n",
        "decoded = Dense(64, activation='relu')(decoded)\n",
        "decoded = Dense(128, activation='relu')(decoded)\n",
        "output = Dense(input_dim, activation='sigmoid')(decoded)\n",
        "\n",
        "\n",
        "autoencoder = Model(input, output)\n",
        "\n",
        "autoencoder.compile(optimizer='adam', loss='mse',metrics=['acc'])\n",
        "#autoencoder_optimizer = keras.optimizers.RMSprop(lr=0.0004) \n",
        "\n",
        "#autoencoder.compile(optimizer=autoencoder_optimizer, loss='binary_crossentropy',metrics=['acc'])\n",
        "autoencoder.summary()\n"
      ],
      "execution_count": 25,
      "outputs": [
        {
          "output_type": "stream",
          "name": "stdout",
          "text": [
            "Model: \"model_2\"\n",
            "_________________________________________________________________\n",
            " Layer (type)                Output Shape              Param #   \n",
            "=================================================================\n",
            " input_3 (InputLayer)        [(None, 30)]              0         \n",
            "                                                                 \n",
            " dense_20 (Dense)            (None, 30)                930       \n",
            "                                                                 \n",
            " dense_21 (Dense)            (None, 128)               3968      \n",
            "                                                                 \n",
            " dense_22 (Dense)            (None, 64)                8256      \n",
            "                                                                 \n",
            " dense_23 (Dense)            (None, 32)                2080      \n",
            "                                                                 \n",
            " dense_24 (Dense)            (None, 16)                528       \n",
            "                                                                 \n",
            " dense_26 (Dense)            (None, 32)                544       \n",
            "                                                                 \n",
            " dense_27 (Dense)            (None, 64)                2112      \n",
            "                                                                 \n",
            " dense_28 (Dense)            (None, 128)               8320      \n",
            "                                                                 \n",
            " dense_29 (Dense)            (None, 30)                3870      \n",
            "                                                                 \n",
            "=================================================================\n",
            "Total params: 30,608\n",
            "Trainable params: 30,608\n",
            "Non-trainable params: 0\n",
            "_________________________________________________________________\n"
          ]
        }
      ]
    },
    {
      "cell_type": "code",
      "metadata": {
        "id": "x-J-4hMYK2FH",
        "colab": {
          "base_uri": "https://localhost:8080/"
        },
        "outputId": "63710900-4abe-4c12-f3b7-196aacc08c79"
      },
      "source": [
        "history=autoencoder.fit(x_train_res, x_train_res,\n",
        "                        batch_size=batch_size,\n",
        "                        epochs=epoch_no,\n",
        "                        shuffle=True,\n",
        "                        validation_data=(x_test,x_test))\n",
        "\n",
        "autoencoder.evaluate(x_test, verbose=1)\n",
        "\n"
      ],
      "execution_count": 26,
      "outputs": [
        {
          "output_type": "stream",
          "name": "stdout",
          "text": [
            "Epoch 1/30\n",
            "4976/4976 [==============================] - 14s 3ms/step - loss: 0.0014 - acc: 0.9128 - val_loss: 7.9677e-04 - val_acc: 0.9553\n",
            "Epoch 2/30\n",
            "4976/4976 [==============================] - 13s 3ms/step - loss: 4.6732e-04 - acc: 0.9427 - val_loss: 4.5256e-04 - val_acc: 0.9565\n",
            "Epoch 3/30\n",
            "4976/4976 [==============================] - 15s 3ms/step - loss: 3.1630e-04 - acc: 0.9559 - val_loss: 3.2906e-04 - val_acc: 0.9565\n",
            "Epoch 4/30\n",
            "4976/4976 [==============================] - 13s 3ms/step - loss: 2.2621e-04 - acc: 0.9615 - val_loss: 3.1668e-04 - val_acc: 0.9585\n",
            "Epoch 5/30\n",
            "4976/4976 [==============================] - 13s 3ms/step - loss: 2.0577e-04 - acc: 0.9640 - val_loss: 2.8163e-04 - val_acc: 0.9605\n",
            "Epoch 6/30\n",
            "4976/4976 [==============================] - 13s 3ms/step - loss: 1.9322e-04 - acc: 0.9650 - val_loss: 2.6969e-04 - val_acc: 0.9675\n",
            "Epoch 7/30\n",
            "4976/4976 [==============================] - 13s 3ms/step - loss: 1.8385e-04 - acc: 0.9659 - val_loss: 2.4783e-04 - val_acc: 0.9646\n",
            "Epoch 8/30\n",
            "4976/4976 [==============================] - 13s 3ms/step - loss: 1.7668e-04 - acc: 0.9679 - val_loss: 2.3847e-04 - val_acc: 0.9642\n",
            "Epoch 9/30\n",
            "4976/4976 [==============================] - 13s 3ms/step - loss: 1.7062e-04 - acc: 0.9693 - val_loss: 2.3264e-04 - val_acc: 0.9646\n",
            "Epoch 10/30\n",
            "4976/4976 [==============================] - 13s 3ms/step - loss: 1.6543e-04 - acc: 0.9704 - val_loss: 2.3090e-04 - val_acc: 0.9680\n",
            "Epoch 11/30\n",
            "4976/4976 [==============================] - 14s 3ms/step - loss: 1.6118e-04 - acc: 0.9708 - val_loss: 2.3547e-04 - val_acc: 0.9684\n",
            "Epoch 12/30\n",
            "4976/4976 [==============================] - 14s 3ms/step - loss: 1.5631e-04 - acc: 0.9713 - val_loss: 2.1831e-04 - val_acc: 0.9684\n",
            "Epoch 13/30\n",
            "4976/4976 [==============================] - 13s 3ms/step - loss: 1.5279e-04 - acc: 0.9717 - val_loss: 2.1929e-04 - val_acc: 0.9662\n",
            "Epoch 14/30\n",
            "4976/4976 [==============================] - 13s 3ms/step - loss: 1.5008e-04 - acc: 0.9718 - val_loss: 2.2976e-04 - val_acc: 0.9662\n",
            "Epoch 15/30\n",
            "4976/4976 [==============================] - 13s 3ms/step - loss: 1.4791e-04 - acc: 0.9721 - val_loss: 2.1898e-04 - val_acc: 0.9652\n",
            "Epoch 16/30\n",
            "4976/4976 [==============================] - 15s 3ms/step - loss: 1.4551e-04 - acc: 0.9725 - val_loss: 2.1916e-04 - val_acc: 0.9686\n",
            "Epoch 17/30\n",
            "4976/4976 [==============================] - 14s 3ms/step - loss: 1.4277e-04 - acc: 0.9727 - val_loss: 2.0827e-04 - val_acc: 0.9660\n",
            "Epoch 18/30\n",
            "4976/4976 [==============================] - 13s 3ms/step - loss: 1.4069e-04 - acc: 0.9732 - val_loss: 2.1591e-04 - val_acc: 0.9695\n",
            "Epoch 19/30\n",
            "4976/4976 [==============================] - 14s 3ms/step - loss: 1.3866e-04 - acc: 0.9738 - val_loss: 2.1398e-04 - val_acc: 0.9622\n",
            "Epoch 20/30\n",
            "4976/4976 [==============================] - 14s 3ms/step - loss: 1.3650e-04 - acc: 0.9742 - val_loss: 1.9254e-04 - val_acc: 0.9710\n",
            "Epoch 21/30\n",
            "4976/4976 [==============================] - 14s 3ms/step - loss: 1.3499e-04 - acc: 0.9745 - val_loss: 2.0940e-04 - val_acc: 0.9701\n",
            "Epoch 22/30\n",
            "4976/4976 [==============================] - 13s 3ms/step - loss: 1.3302e-04 - acc: 0.9747 - val_loss: 1.9431e-04 - val_acc: 0.9714\n",
            "Epoch 23/30\n",
            "4976/4976 [==============================] - 14s 3ms/step - loss: 1.3120e-04 - acc: 0.9754 - val_loss: 1.8958e-04 - val_acc: 0.9724\n",
            "Epoch 24/30\n",
            "4976/4976 [==============================] - 13s 3ms/step - loss: 1.2970e-04 - acc: 0.9755 - val_loss: 1.8464e-04 - val_acc: 0.9700\n",
            "Epoch 25/30\n",
            "4976/4976 [==============================] - 14s 3ms/step - loss: 1.2848e-04 - acc: 0.9761 - val_loss: 1.9559e-04 - val_acc: 0.9752\n",
            "Epoch 26/30\n",
            "4976/4976 [==============================] - 13s 3ms/step - loss: 1.2683e-04 - acc: 0.9762 - val_loss: 1.9941e-04 - val_acc: 0.9712\n",
            "Epoch 27/30\n",
            "4976/4976 [==============================] - 13s 3ms/step - loss: 1.2477e-04 - acc: 0.9765 - val_loss: 1.8840e-04 - val_acc: 0.9663\n",
            "Epoch 28/30\n",
            "4976/4976 [==============================] - 13s 3ms/step - loss: 1.2309e-04 - acc: 0.9764 - val_loss: 1.7613e-04 - val_acc: 0.9770\n",
            "Epoch 29/30\n",
            "4976/4976 [==============================] - 14s 3ms/step - loss: 1.2135e-04 - acc: 0.9766 - val_loss: 1.7651e-04 - val_acc: 0.9744\n",
            "Epoch 30/30\n",
            "4976/4976 [==============================] - 13s 3ms/step - loss: 1.1986e-04 - acc: 0.9771 - val_loss: 1.7784e-04 - val_acc: 0.9775\n",
            "2671/2671 [==============================] - 3s 904us/step - loss: 0.0000e+00 - acc: 0.0000e+00\n"
          ]
        },
        {
          "output_type": "execute_result",
          "data": {
            "text/plain": [
              "[0.0, 0.0]"
            ]
          },
          "metadata": {},
          "execution_count": 26
        }
      ]
    },
    {
      "cell_type": "code",
      "source": [
        "evaluatemodel(autoencoder,history, x_test, x_test)"
      ],
      "metadata": {
        "id": "xtE5fDbJgEOc",
        "colab": {
          "base_uri": "https://localhost:8080/"
        },
        "outputId": "770eeb5d-93b6-4905-9ddd-95333781c2f8"
      },
      "execution_count": 27,
      "outputs": [
        {
          "output_type": "stream",
          "name": "stdout",
          "text": [
            "Training loss: 0.00011985524906776845\n",
            "Training accuracy: 0.9770861268043518 \n",
            "\n",
            "2671/2671 [==============================] - 3s 1ms/step - loss: 1.7784e-04 - acc: 0.9775\n",
            "Test loss: 0.00017784067313186824\n",
            "Test accuracy: 0.9774820804595947\n"
          ]
        }
      ]
    },
    {
      "cell_type": "code",
      "source": [
        "plotresults(history)"
      ],
      "metadata": {
        "id": "mDCRodHcgD40",
        "colab": {
          "base_uri": "https://localhost:8080/",
          "height": 573
        },
        "outputId": "0e89cb61-c7e9-4e46-c105-f5724ea46eb4"
      },
      "execution_count": 28,
      "outputs": [
        {
          "output_type": "display_data",
          "data": {
            "text/plain": [
              "<Figure size 432x288 with 1 Axes>"
            ],
            "image/png": "[encoded data removed]"
          },
          "metadata": {
            "needs_background": "light"
          }
        },
        {
          "output_type": "display_data",
          "data": {
            "text/plain": [
              "<Figure size 432x288 with 1 Axes>"
            ],
            "image/png": "[encoded data removed]"
          },
          "metadata": {
            "needs_background": "light"
          }
        }
      ]
    }
  ]
}
